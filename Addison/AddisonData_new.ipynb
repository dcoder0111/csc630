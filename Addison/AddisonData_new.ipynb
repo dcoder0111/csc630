{
 "cells": [
  {
   "cell_type": "markdown",
   "id": "59fd9237",
   "metadata": {},
   "source": [
    "Importing Libraries"
   ]
  },
  {
   "cell_type": "code",
   "execution_count": 1,
   "id": "827c73f5",
   "metadata": {},
   "outputs": [],
   "source": [
    "import pandas as pd\n",
    "import matplotlib.pyplot as plt\n",
    "import numpy as np\n",
    "from pywaffle import Waffle"
   ]
  },
  {
   "cell_type": "markdown",
   "id": "58dcc516",
   "metadata": {},
   "source": [
    "Import csv"
   ]
  },
  {
   "cell_type": "code",
   "execution_count": 2,
   "id": "3e1ba0b8",
   "metadata": {},
   "outputs": [
    {
     "name": "stderr",
     "output_type": "stream",
     "text": [
      "/var/folders/g5/23p3mnps53z390h7dn3lf9tm0000gn/T/ipykernel_63613/646566460.py:2: FutureWarning: Passing a negative integer is deprecated in version 1.0 and will not be supported in future version. Instead, use None to not limit the column width.\n",
      "  pd.set_option('display.max_colwidth', -1)\n"
     ]
    }
   ],
   "source": [
    "df = pd.read_csv('/Users/dcoder/Desktop/school/csc630/AGAA_ObjectData.csv', encoding='latin-1')\n",
    "pd.set_option('display.max_colwidth', -1)"
   ]
  },
  {
   "cell_type": "markdown",
   "id": "4abdbfb4",
   "metadata": {},
   "source": [
    "Data Exploration"
   ]
  },
  {
   "cell_type": "code",
   "execution_count": 3,
   "id": "b620cbab",
   "metadata": {},
   "outputs": [
    {
     "data": {
      "text/plain": [
       "Index(['Accession Number', 'Artist - Sort Name', 'Full Title',\n",
       "       'Portfolio (Series) Title', 'Creation Date', 'Height', 'Width', 'Depth',\n",
       "       'Media & Support', 'Credit Line', 'Class Type'],\n",
       "      dtype='object')"
      ]
     },
     "execution_count": 3,
     "metadata": {},
     "output_type": "execute_result"
    }
   ],
   "source": [
    "df.columns"
   ]
  },
  {
   "cell_type": "code",
   "execution_count": 4,
   "id": "c5e69ec1",
   "metadata": {},
   "outputs": [
    {
     "data": {
      "text/plain": [
       "array(['G: Photography', 'B: Sculpture', 'E: Work on Paper', 'F: Prints',\n",
       "       'D: Decorative Arts', 'A: Painting', 'H: Ship Models', 'X: Misc',\n",
       "       nan], dtype=object)"
      ]
     },
     "execution_count": 4,
     "metadata": {},
     "output_type": "execute_result"
    }
   ],
   "source": [
    "df['Class Type'].unique()"
   ]
  },
  {
   "cell_type": "code",
   "execution_count": 5,
   "id": "52da1617",
   "metadata": {},
   "outputs": [
    {
     "data": {
      "text/plain": [
       "8533"
      ]
     },
     "execution_count": 5,
     "metadata": {},
     "output_type": "execute_result"
    }
   ],
   "source": [
    "df[df['Class Type']=='G: Photography'].count()[0]"
   ]
  },
  {
   "cell_type": "code",
   "execution_count": 6,
   "id": "9e200a5f",
   "metadata": {},
   "outputs": [
    {
     "name": "stdout",
     "output_type": "stream",
     "text": [
      "[8533, 408, 2807, 5029, 359, 823, 24, 16, 0]\n"
     ]
    }
   ],
   "source": [
    "number_types = []\n",
    "for class_type in df['Class Type'].unique():\n",
    "  number_types.append(df[df['Class Type']==class_type].count()[0])\n",
    "print(number_types)\n",
    "data ={\n",
    "        'types': df['Class Type'].unique(),\n",
    "        'number_types': number_types\n",
    "     }\n",
    "  \n",
    "new_df = pd.DataFrame(data)"
   ]
  },
  {
   "cell_type": "code",
   "execution_count": 7,
   "id": "d0106b28",
   "metadata": {},
   "outputs": [
    {
     "data": {
      "text/plain": [
       "array(['purchased with funds from an anonymous donor and Andrea Feldman (PA 1983)',\n",
       "       'gift of the artists', 'museum purchase', ...,\n",
       "       'gift of anonymous donor in memory of Beth Lisa Feldman',\n",
       "       'gift of Richard D. Segal', 'gift of Mr. and Mrs. Stuart P. Feld '],\n",
       "      dtype=object)"
      ]
     },
     "execution_count": 7,
     "metadata": {},
     "output_type": "execute_result"
    }
   ],
   "source": [
    "df['Credit Line'].unique()"
   ]
  },
  {
   "cell_type": "code",
   "execution_count": 8,
   "id": "895faa60",
   "metadata": {},
   "outputs": [
    {
     "name": "stdout",
     "output_type": "stream",
     "text": [
      "802\n"
     ]
    }
   ],
   "source": [
    "total_gifts = 0\n",
    "all_gifts = []\n",
    "for x in df['Credit Line'].unique():\n",
    "    if \"gift of\" in str(x):\n",
    "        if \"anonymous\" not in str(x):\n",
    "            if \"gift of the artist\" not in str(x):\n",
    "                if \"Foundation\" not in str(x):\n",
    "                    if \"Fund\" not in str(x):\n",
    "                        if \"purchase\" not in str(x):\n",
    "                            total_gifts += 1\n",
    "                            all_gifts.append(str(x))\n",
    "print(total_gifts)"
   ]
  },
  {
   "cell_type": "code",
   "execution_count": 9,
   "id": "22c57078",
   "metadata": {},
   "outputs": [
    {
     "data": {
      "text/plain": [
       "['gift of Robert Feldman (PA 1954) in memory of Beth Lisa Feldman',\n",
       " 'gift of Linda Feldman in memory of Beth Lisa Feldman',\n",
       " 'pruchased as the gift of Sam Petok',\n",
       " 'gift of Harry Shapiro',\n",
       " 'gift of Paul Stephens',\n",
       " 'gift of Robert Schussel',\n",
       " \"gift of Georgia O'Keeffe and Elizabeth Davidson\",\n",
       " 'gift of Betty and Sidney Feldman',\n",
       " 'gift of Peter Halley (PA 1971), Addison Art Drive',\n",
       " 'gift of Robert A. Feldman (PA 1954) in memory of Beth Lisa Feldman']"
      ]
     },
     "execution_count": 9,
     "metadata": {},
     "output_type": "execute_result"
    }
   ],
   "source": [
    "all_gifts[:10]"
   ]
  },
  {
   "cell_type": "code",
   "execution_count": 10,
   "id": "77131c37",
   "metadata": {},
   "outputs": [
    {
     "name": "stdout",
     "output_type": "stream",
     "text": [
      "[72, 15, 1, 38, 57, 1, 284, 15, 1, 13, 11, 4, 2, 5, 26, 1, 1, 17, 1, 8, 2, 1, 77, 30, 15, 30, 1, 7, 5, 4, 2, 1, 250, 26, 2, 12, 4, 5, 24, 126, 55, 10, 1, 1, 30, 5, 1, 1, 1, 10, 4, 1, 1, 1, 1, 1, 1, 28, 5, 1, 15, 1, 10, 1, 3, 1, 2, 1, 10, 1, 1, 1, 11, 6, 4, 1, 9, 1, 1, 1, 34, 12, 2, 278, 9, 2, 1, 1, 1, 12, 1, 1, 9, 2, 1, 1, 1, 1, 1, 1, 1, 152, 6, 2, 25, 1, 2, 4, 8, 2, 6, 26, 2, 1, 1, 1, 101, 49, 1, 1, 4, 34, 4, 9, 4, 6, 1, 7, 22, 1, 1, 3, 5, 13, 21, 1, 6, 1, 92, 1, 1, 8, 5, 7, 18, 5, 1, 13, 1, 1, 137, 1, 1, 1, 1, 2, 4, 1, 1, 1, 134, 6, 10, 1, 5, 1, 1, 1, 19, 1, 1, 1, 6, 4, 1, 10, 1, 1, 1, 1, 3, 22, 2, 9, 1, 1, 1, 1, 2, 2, 3, 2, 7, 1, 2, 1, 1, 3, 1, 1, 9, 1, 5, 2, 5, 8, 1, 18, 12, 22, 1, 1, 1, 3, 6, 4, 17, 2, 1, 12, 1, 1, 10, 4, 65, 1, 5, 1, 2, 2, 1, 21, 3, 1, 13, 10, 17, 1, 1, 1, 45, 1, 10, 1, 22, 9, 1, 1, 1, 1, 1, 1, 55, 1, 1, 2, 1, 11, 9, 1, 1, 3, 2, 1, 1, 21, 7, 118, 1, 1, 5, 1, 1, 1, 6, 3, 1, 1, 5, 1, 2, 1, 1, 2, 8, 4, 28, 1, 42, 1, 1, 1, 1, 1, 1, 14, 4, 5, 1, 19, 6, 1, 1, 1, 1, 21, 1, 2, 1, 16, 1, 1, 7, 3, 98, 6, 2, 30, 2, 3, 3, 1, 3, 2, 36, 1, 1, 8, 28, 1, 1, 3, 48, 1, 1, 40, 60, 55, 1, 2, 1, 3, 1, 1, 1, 2, 1, 1, 1, 5, 2, 25, 1, 2, 5, 1, 5, 1, 2, 1, 2, 2, 3, 1, 1, 4, 3, 2, 1, 1, 1, 5, 51, 1, 1, 1, 1, 1, 1, 4, 11, 1, 1, 1, 1, 1, 128, 71, 76, 1, 1, 1, 1, 2, 2, 1, 8, 2, 1, 1, 1, 1, 20, 1, 2, 1, 1, 1, 31, 1, 1, 9, 1, 3, 2, 2, 1, 2, 13, 1, 2, 8, 7, 9, 1, 1, 1, 10, 1, 1, 4, 2, 2, 1, 9, 6, 1, 25, 1, 1, 1, 40, 3, 32, 1, 1, 1, 1, 8, 1, 1, 1, 1, 1, 5, 1, 10, 1, 6, 1, 1, 1, 1, 3, 1, 1, 1, 1, 1, 1, 2, 1, 3, 1, 1, 1, 1, 1, 1, 4, 1, 1, 1, 3, 160, 1, 2, 1, 4, 1, 14, 15, 1, 1, 1, 1, 2, 2, 1, 1, 1, 1, 2, 6, 1, 3, 12, 4, 1, 40, 2, 3, 9, 1, 1, 1, 1, 1, 1, 1, 1, 1, 1, 1, 1, 4, 1, 1, 1, 1, 1, 2, 1, 1, 1, 1, 33, 1, 1, 1, 1, 3, 1, 10, 2, 1, 1, 3, 14, 1, 2, 1, 3, 2, 31, 1, 1, 1, 4, 1, 1, 1, 1, 1, 2, 3, 19, 1, 1, 1, 4, 1, 1, 16, 1, 1, 1, 1, 2, 1, 17, 1, 1, 1, 1, 1, 1, 5, 780, 1, 1, 1, 1, 1, 14, 1, 1, 1, 1, 4, 1, 1, 2, 1, 2, 1, 1, 2, 1, 1, 1, 1, 1, 1, 1, 1, 9, 1, 1, 1, 1, 1, 3, 2, 1, 2, 1, 1, 1, 1, 62, 1, 1, 5, 1, 1, 2, 1, 1, 3, 1, 13, 14, 2, 1, 1, 2, 1, 1, 1, 1, 4, 1, 2, 1, 1, 1, 4, 7, 2, 1, 1, 1, 1, 1, 2, 1, 1, 8, 5, 1, 1, 1, 1, 9, 1, 1, 1, 1, 13, 1, 1, 1, 2, 23, 1, 1, 3, 1, 14, 1, 1, 1, 1, 1, 1, 16, 2, 1, 1, 6, 2, 1, 1, 2, 1, 1, 2, 1, 4, 2, 51, 2, 1, 1, 1, 1, 3, 1, 1, 1, 1, 1, 2, 1, 4, 164, 39, 27, 17, 1, 24, 1, 1, 8, 1, 1, 1, 1, 2, 3, 1, 1, 1, 1, 1, 2, 1, 5, 1, 1, 1, 1, 1, 1, 1, 3, 13, 1, 1, 1, 1, 51, 1, 1, 1, 1, 3, 10, 1, 1, 1, 1, 1, 1, 1, 1, 1, 1, 1, 11, 1, 1, 1, 5, 86, 3, 1, 1, 1, 1, 2, 1, 9, 1, 2, 1, 13, 1, 1, 4, 1]\n"
     ]
    }
   ],
   "source": [
    "number_gift_types = []\n",
    "for gift_type in all_gifts:\n",
    "  number_gift_types.append(df[df['Credit Line']==gift_type].count()[0])\n",
    "print(number_gift_types)"
   ]
  },
  {
   "cell_type": "code",
   "execution_count": 11,
   "id": "467417a4",
   "metadata": {},
   "outputs": [],
   "source": [
    "gifts = {\n",
    "    'type': all_gifts,\n",
    "    'number': number_gift_types\n",
    "}\n",
    "gift_df = pd.DataFrame(gifts)"
   ]
  },
  {
   "cell_type": "code",
   "execution_count": 12,
   "id": "bf18ffc3",
   "metadata": {},
   "outputs": [],
   "source": [
    "import re\n",
    "person = []\n",
    "number = []\n",
    "for x in sorted(number_gift_types)[-10:]:\n",
    "    person.append(str(gift_df[gift_df['number']==x]['type'])[:-26])\n",
    "    number.append(int(gift_df[gift_df['number']==x]['number'])    )"
   ]
  },
  {
   "cell_type": "code",
   "execution_count": 13,
   "id": "295b4a6d",
   "metadata": {},
   "outputs": [],
   "source": [
    "top_donors = {\n",
    "    'person': person,\n",
    "    'number': number\n",
    "}\n",
    "top_donors = pd.DataFrame(top_donors)"
   ]
  },
  {
   "cell_type": "code",
   "execution_count": 14,
   "id": "9678057c",
   "metadata": {},
   "outputs": [
    {
     "data": {
      "text/html": [
       "<div>\n",
       "<style scoped>\n",
       "    .dataframe tbody tr th:only-of-type {\n",
       "        vertical-align: middle;\n",
       "    }\n",
       "\n",
       "    .dataframe tbody tr th {\n",
       "        vertical-align: top;\n",
       "    }\n",
       "\n",
       "    .dataframe thead th {\n",
       "        text-align: right;\n",
       "    }\n",
       "</style>\n",
       "<table border=\"1\" class=\"dataframe\">\n",
       "  <thead>\n",
       "    <tr style=\"text-align: right;\">\n",
       "      <th></th>\n",
       "      <th>person</th>\n",
       "      <th>number</th>\n",
       "    </tr>\n",
       "  </thead>\n",
       "  <tbody>\n",
       "    <tr>\n",
       "      <th>0</th>\n",
       "      <td>386    gift of Donald Holden</td>\n",
       "      <td>128</td>\n",
       "    </tr>\n",
       "    <tr>\n",
       "      <th>1</th>\n",
       "      <td>160    gift of Andrea Feldman (PA 1983)</td>\n",
       "      <td>134</td>\n",
       "    </tr>\n",
       "    <tr>\n",
       "      <th>2</th>\n",
       "      <td>150    gift of Claudia and Steven Schwartz (PA 1977)</td>\n",
       "      <td>137</td>\n",
       "    </tr>\n",
       "    <tr>\n",
       "      <th>3</th>\n",
       "      <td>101    gift of Edward O'Neil</td>\n",
       "      <td>152</td>\n",
       "    </tr>\n",
       "    <tr>\n",
       "      <th>4</th>\n",
       "      <td>484    gift of H.J. Koehler, Grandson of P. Koehler</td>\n",
       "      <td>160</td>\n",
       "    </tr>\n",
       "    <tr>\n",
       "      <th>5</th>\n",
       "      <td>726    gift of E.T. Meredith III</td>\n",
       "      <td>164</td>\n",
       "    </tr>\n",
       "    <tr>\n",
       "      <th>6</th>\n",
       "      <td>32    gift of Adam D. Weinberg in honor of Allison Kemmerer</td>\n",
       "      <td>250</td>\n",
       "    </tr>\n",
       "    <tr>\n",
       "      <th>7</th>\n",
       "      <td>83    gift of Katherine D. and Stephen C. Sherrill (PA 1971, and P 2005, 2007, 2010)</td>\n",
       "      <td>278</td>\n",
       "    </tr>\n",
       "    <tr>\n",
       "      <th>8</th>\n",
       "      <td>6    gift of Georgia O'Keeffe and Elizabeth Davidson</td>\n",
       "      <td>284</td>\n",
       "    </tr>\n",
       "    <tr>\n",
       "      <th>9</th>\n",
       "      <td>588    gift of the Edwin J. Beinecke Trust</td>\n",
       "      <td>780</td>\n",
       "    </tr>\n",
       "  </tbody>\n",
       "</table>\n",
       "</div>"
      ],
      "text/plain": [
       "                                                                                 person  \\\n",
       "0  386    gift of Donald Holden                                                           \n",
       "1  160    gift of Andrea Feldman (PA 1983)                                                \n",
       "2  150    gift of Claudia and Steven Schwartz (PA 1977)                                   \n",
       "3  101    gift of Edward O'Neil                                                           \n",
       "4  484    gift of H.J. Koehler, Grandson of P. Koehler                                    \n",
       "5  726    gift of E.T. Meredith III                                                       \n",
       "6  32    gift of Adam D. Weinberg in honor of Allison Kemmerer                            \n",
       "7  83    gift of Katherine D. and Stephen C. Sherrill (PA 1971, and P 2005, 2007, 2010)   \n",
       "8  6    gift of Georgia O'Keeffe and Elizabeth Davidson                                   \n",
       "9  588    gift of the Edwin J. Beinecke Trust                                             \n",
       "\n",
       "   number  \n",
       "0  128     \n",
       "1  134     \n",
       "2  137     \n",
       "3  152     \n",
       "4  160     \n",
       "5  164     \n",
       "6  250     \n",
       "7  278     \n",
       "8  284     \n",
       "9  780     "
      ]
     },
     "execution_count": 14,
     "metadata": {},
     "output_type": "execute_result"
    }
   ],
   "source": [
    "top_donors"
   ]
  },
  {
   "cell_type": "code",
   "execution_count": 15,
   "id": "e5b6944e",
   "metadata": {},
   "outputs": [
    {
     "name": "stderr",
     "output_type": "stream",
     "text": [
      "/var/folders/g5/23p3mnps53z390h7dn3lf9tm0000gn/T/ipykernel_63613/220956503.py:2: PerformanceWarning: DataFrame is highly fragmented.  This is usually the result of calling `frame.insert` many times, which has poor performance.  Consider joining all columns at once using pd.concat(axis=1) instead.  To get a de-fragmented frame, use `newframe = frame.copy()`\n",
      "  df[x] = 0\n"
     ]
    }
   ],
   "source": [
    "for x in df['Credit Line'].unique():\n",
    "    df[x] = 0"
   ]
  },
  {
   "cell_type": "code",
   "execution_count": 16,
   "id": "00ebbd4f",
   "metadata": {},
   "outputs": [],
   "source": [
    "top_donors['person'] = top_donors['person'].apply(lambda x: re.sub(\"(.*) gift of\", \"gift of\", x))"
   ]
  },
  {
   "cell_type": "code",
   "execution_count": 17,
   "id": "cb9429d1",
   "metadata": {},
   "outputs": [
    {
     "data": {
      "text/html": [
       "<div>\n",
       "<style scoped>\n",
       "    .dataframe tbody tr th:only-of-type {\n",
       "        vertical-align: middle;\n",
       "    }\n",
       "\n",
       "    .dataframe tbody tr th {\n",
       "        vertical-align: top;\n",
       "    }\n",
       "\n",
       "    .dataframe thead th {\n",
       "        text-align: right;\n",
       "    }\n",
       "</style>\n",
       "<table border=\"1\" class=\"dataframe\">\n",
       "  <thead>\n",
       "    <tr style=\"text-align: right;\">\n",
       "      <th></th>\n",
       "      <th>person</th>\n",
       "      <th>number</th>\n",
       "    </tr>\n",
       "  </thead>\n",
       "  <tbody>\n",
       "    <tr>\n",
       "      <th>0</th>\n",
       "      <td>gift of Donald Holden</td>\n",
       "      <td>128</td>\n",
       "    </tr>\n",
       "    <tr>\n",
       "      <th>1</th>\n",
       "      <td>gift of Andrea Feldman (PA 1983)</td>\n",
       "      <td>134</td>\n",
       "    </tr>\n",
       "    <tr>\n",
       "      <th>2</th>\n",
       "      <td>gift of Claudia and Steven Schwartz (PA 1977)</td>\n",
       "      <td>137</td>\n",
       "    </tr>\n",
       "    <tr>\n",
       "      <th>3</th>\n",
       "      <td>gift of Edward O'Neil</td>\n",
       "      <td>152</td>\n",
       "    </tr>\n",
       "    <tr>\n",
       "      <th>4</th>\n",
       "      <td>gift of H.J. Koehler, Grandson of P. Koehler</td>\n",
       "      <td>160</td>\n",
       "    </tr>\n",
       "    <tr>\n",
       "      <th>5</th>\n",
       "      <td>gift of E.T. Meredith III</td>\n",
       "      <td>164</td>\n",
       "    </tr>\n",
       "    <tr>\n",
       "      <th>6</th>\n",
       "      <td>gift of Adam D. Weinberg in honor of Allison Kemmerer</td>\n",
       "      <td>250</td>\n",
       "    </tr>\n",
       "    <tr>\n",
       "      <th>7</th>\n",
       "      <td>gift of Katherine D. and Stephen C. Sherrill (PA 1971, and P 2005, 2007, 2010)</td>\n",
       "      <td>278</td>\n",
       "    </tr>\n",
       "    <tr>\n",
       "      <th>8</th>\n",
       "      <td>gift of Georgia O'Keeffe and Elizabeth Davidson</td>\n",
       "      <td>284</td>\n",
       "    </tr>\n",
       "    <tr>\n",
       "      <th>9</th>\n",
       "      <td>gift of the Edwin J. Beinecke Trust</td>\n",
       "      <td>780</td>\n",
       "    </tr>\n",
       "  </tbody>\n",
       "</table>\n",
       "</div>"
      ],
      "text/plain": [
       "                                                                           person  \\\n",
       "0  gift of Donald Holden                                                            \n",
       "1  gift of Andrea Feldman (PA 1983)                                                 \n",
       "2  gift of Claudia and Steven Schwartz (PA 1977)                                    \n",
       "3  gift of Edward O'Neil                                                            \n",
       "4  gift of H.J. Koehler, Grandson of P. Koehler                                     \n",
       "5  gift of E.T. Meredith III                                                        \n",
       "6  gift of Adam D. Weinberg in honor of Allison Kemmerer                            \n",
       "7  gift of Katherine D. and Stephen C. Sherrill (PA 1971, and P 2005, 2007, 2010)   \n",
       "8  gift of Georgia O'Keeffe and Elizabeth Davidson                                  \n",
       "9  gift of the Edwin J. Beinecke Trust                                              \n",
       "\n",
       "   number  \n",
       "0  128     \n",
       "1  134     \n",
       "2  137     \n",
       "3  152     \n",
       "4  160     \n",
       "5  164     \n",
       "6  250     \n",
       "7  278     \n",
       "8  284     \n",
       "9  780     "
      ]
     },
     "execution_count": 17,
     "metadata": {},
     "output_type": "execute_result"
    }
   ],
   "source": [
    "top_donors"
   ]
  },
  {
   "cell_type": "code",
   "execution_count": 18,
   "id": "b71cb657",
   "metadata": {},
   "outputs": [],
   "source": [
    "for x in df['Class Type'].unique():\n",
    "    top_donors[str(x)] = 0"
   ]
  },
  {
   "cell_type": "code",
   "execution_count": 19,
   "id": "52a1029e",
   "metadata": {},
   "outputs": [
    {
     "data": {
      "text/html": [
       "<div>\n",
       "<style scoped>\n",
       "    .dataframe tbody tr th:only-of-type {\n",
       "        vertical-align: middle;\n",
       "    }\n",
       "\n",
       "    .dataframe tbody tr th {\n",
       "        vertical-align: top;\n",
       "    }\n",
       "\n",
       "    .dataframe thead th {\n",
       "        text-align: right;\n",
       "    }\n",
       "</style>\n",
       "<table border=\"1\" class=\"dataframe\">\n",
       "  <thead>\n",
       "    <tr style=\"text-align: right;\">\n",
       "      <th></th>\n",
       "      <th>person</th>\n",
       "      <th>number</th>\n",
       "      <th>G: Photography</th>\n",
       "      <th>B: Sculpture</th>\n",
       "      <th>E: Work on Paper</th>\n",
       "      <th>F: Prints</th>\n",
       "      <th>D: Decorative Arts</th>\n",
       "      <th>A: Painting</th>\n",
       "      <th>H: Ship Models</th>\n",
       "      <th>X: Misc</th>\n",
       "      <th>nan</th>\n",
       "    </tr>\n",
       "  </thead>\n",
       "  <tbody>\n",
       "    <tr>\n",
       "      <th>0</th>\n",
       "      <td>gift of Donald Holden</td>\n",
       "      <td>128</td>\n",
       "      <td>0</td>\n",
       "      <td>0</td>\n",
       "      <td>0</td>\n",
       "      <td>0</td>\n",
       "      <td>0</td>\n",
       "      <td>0</td>\n",
       "      <td>0</td>\n",
       "      <td>0</td>\n",
       "      <td>0</td>\n",
       "    </tr>\n",
       "    <tr>\n",
       "      <th>1</th>\n",
       "      <td>gift of Andrea Feldman (PA 1983)</td>\n",
       "      <td>134</td>\n",
       "      <td>0</td>\n",
       "      <td>0</td>\n",
       "      <td>0</td>\n",
       "      <td>0</td>\n",
       "      <td>0</td>\n",
       "      <td>0</td>\n",
       "      <td>0</td>\n",
       "      <td>0</td>\n",
       "      <td>0</td>\n",
       "    </tr>\n",
       "    <tr>\n",
       "      <th>2</th>\n",
       "      <td>gift of Claudia and Steven Schwartz (PA 1977)</td>\n",
       "      <td>137</td>\n",
       "      <td>0</td>\n",
       "      <td>0</td>\n",
       "      <td>0</td>\n",
       "      <td>0</td>\n",
       "      <td>0</td>\n",
       "      <td>0</td>\n",
       "      <td>0</td>\n",
       "      <td>0</td>\n",
       "      <td>0</td>\n",
       "    </tr>\n",
       "    <tr>\n",
       "      <th>3</th>\n",
       "      <td>gift of Edward O'Neil</td>\n",
       "      <td>152</td>\n",
       "      <td>0</td>\n",
       "      <td>0</td>\n",
       "      <td>0</td>\n",
       "      <td>0</td>\n",
       "      <td>0</td>\n",
       "      <td>0</td>\n",
       "      <td>0</td>\n",
       "      <td>0</td>\n",
       "      <td>0</td>\n",
       "    </tr>\n",
       "    <tr>\n",
       "      <th>4</th>\n",
       "      <td>gift of H.J. Koehler, Grandson of P. Koehler</td>\n",
       "      <td>160</td>\n",
       "      <td>0</td>\n",
       "      <td>0</td>\n",
       "      <td>0</td>\n",
       "      <td>0</td>\n",
       "      <td>0</td>\n",
       "      <td>0</td>\n",
       "      <td>0</td>\n",
       "      <td>0</td>\n",
       "      <td>0</td>\n",
       "    </tr>\n",
       "    <tr>\n",
       "      <th>5</th>\n",
       "      <td>gift of E.T. Meredith III</td>\n",
       "      <td>164</td>\n",
       "      <td>0</td>\n",
       "      <td>0</td>\n",
       "      <td>0</td>\n",
       "      <td>0</td>\n",
       "      <td>0</td>\n",
       "      <td>0</td>\n",
       "      <td>0</td>\n",
       "      <td>0</td>\n",
       "      <td>0</td>\n",
       "    </tr>\n",
       "    <tr>\n",
       "      <th>6</th>\n",
       "      <td>gift of Adam D. Weinberg in honor of Allison Kemmerer</td>\n",
       "      <td>250</td>\n",
       "      <td>0</td>\n",
       "      <td>0</td>\n",
       "      <td>0</td>\n",
       "      <td>0</td>\n",
       "      <td>0</td>\n",
       "      <td>0</td>\n",
       "      <td>0</td>\n",
       "      <td>0</td>\n",
       "      <td>0</td>\n",
       "    </tr>\n",
       "    <tr>\n",
       "      <th>7</th>\n",
       "      <td>gift of Katherine D. and Stephen C. Sherrill (PA 1971, and P 2005, 2007, 2010)</td>\n",
       "      <td>278</td>\n",
       "      <td>0</td>\n",
       "      <td>0</td>\n",
       "      <td>0</td>\n",
       "      <td>0</td>\n",
       "      <td>0</td>\n",
       "      <td>0</td>\n",
       "      <td>0</td>\n",
       "      <td>0</td>\n",
       "      <td>0</td>\n",
       "    </tr>\n",
       "    <tr>\n",
       "      <th>8</th>\n",
       "      <td>gift of Georgia O'Keeffe and Elizabeth Davidson</td>\n",
       "      <td>284</td>\n",
       "      <td>0</td>\n",
       "      <td>0</td>\n",
       "      <td>0</td>\n",
       "      <td>0</td>\n",
       "      <td>0</td>\n",
       "      <td>0</td>\n",
       "      <td>0</td>\n",
       "      <td>0</td>\n",
       "      <td>0</td>\n",
       "    </tr>\n",
       "    <tr>\n",
       "      <th>9</th>\n",
       "      <td>gift of the Edwin J. Beinecke Trust</td>\n",
       "      <td>780</td>\n",
       "      <td>0</td>\n",
       "      <td>0</td>\n",
       "      <td>0</td>\n",
       "      <td>0</td>\n",
       "      <td>0</td>\n",
       "      <td>0</td>\n",
       "      <td>0</td>\n",
       "      <td>0</td>\n",
       "      <td>0</td>\n",
       "    </tr>\n",
       "  </tbody>\n",
       "</table>\n",
       "</div>"
      ],
      "text/plain": [
       "                                                                           person  \\\n",
       "0  gift of Donald Holden                                                            \n",
       "1  gift of Andrea Feldman (PA 1983)                                                 \n",
       "2  gift of Claudia and Steven Schwartz (PA 1977)                                    \n",
       "3  gift of Edward O'Neil                                                            \n",
       "4  gift of H.J. Koehler, Grandson of P. Koehler                                     \n",
       "5  gift of E.T. Meredith III                                                        \n",
       "6  gift of Adam D. Weinberg in honor of Allison Kemmerer                            \n",
       "7  gift of Katherine D. and Stephen C. Sherrill (PA 1971, and P 2005, 2007, 2010)   \n",
       "8  gift of Georgia O'Keeffe and Elizabeth Davidson                                  \n",
       "9  gift of the Edwin J. Beinecke Trust                                              \n",
       "\n",
       "   number  G: Photography  B: Sculpture  E: Work on Paper  F: Prints  \\\n",
       "0  128     0               0             0                 0           \n",
       "1  134     0               0             0                 0           \n",
       "2  137     0               0             0                 0           \n",
       "3  152     0               0             0                 0           \n",
       "4  160     0               0             0                 0           \n",
       "5  164     0               0             0                 0           \n",
       "6  250     0               0             0                 0           \n",
       "7  278     0               0             0                 0           \n",
       "8  284     0               0             0                 0           \n",
       "9  780     0               0             0                 0           \n",
       "\n",
       "   D: Decorative Arts  A: Painting  H: Ship Models  X: Misc  nan  \n",
       "0  0                   0            0               0        0    \n",
       "1  0                   0            0               0        0    \n",
       "2  0                   0            0               0        0    \n",
       "3  0                   0            0               0        0    \n",
       "4  0                   0            0               0        0    \n",
       "5  0                   0            0               0        0    \n",
       "6  0                   0            0               0        0    \n",
       "7  0                   0            0               0        0    \n",
       "8  0                   0            0               0        0    \n",
       "9  0                   0            0               0        0    "
      ]
     },
     "execution_count": 19,
     "metadata": {},
     "output_type": "execute_result"
    }
   ],
   "source": [
    "top_donors"
   ]
  },
  {
   "cell_type": "code",
   "execution_count": 20,
   "id": "04478197",
   "metadata": {},
   "outputs": [],
   "source": [
    "def donor_gift_type(donor):\n",
    "    list_gifts = []\n",
    "    for row in df.iterrows():\n",
    "        if row[1]['Credit Line'] == donor:\n",
    "            list_gifts.append(row[1]['Class Type'])\n",
    "    return list_gifts\n",
    "\n",
    "def count_type(list_gifts, gift_type):\n",
    "    num = 0\n",
    "    for x in list_gifts:\n",
    "        if gift_type == x:\n",
    "           num += 1\n",
    "    return num"
   ]
  },
  {
   "cell_type": "code",
   "execution_count": 21,
   "id": "b57000dc",
   "metadata": {
    "scrolled": false
   },
   "outputs": [
    {
     "name": "stdout",
     "output_type": "stream",
     "text": [
      "gift of Donald Holden\n",
      "G: Photography :  128\n",
      "B: Sculpture :  0\n",
      "E: Work on Paper :  0\n",
      "F: Prints :  0\n",
      "D: Decorative Arts :  0\n",
      "A: Painting :  0\n",
      "H: Ship Models :  0\n",
      "X: Misc :  0\n",
      "nan :  0\n",
      "------------------------------------------------\n",
      "gift of Andrea Feldman (PA 1983)\n",
      "G: Photography :  4\n",
      "B: Sculpture :  0\n",
      "E: Work on Paper :  0\n",
      "F: Prints :  130\n",
      "D: Decorative Arts :  0\n",
      "A: Painting :  0\n",
      "H: Ship Models :  0\n",
      "X: Misc :  0\n",
      "nan :  0\n",
      "------------------------------------------------\n",
      "gift of Claudia and Steven Schwartz (PA 1977)\n",
      "G: Photography :  137\n",
      "B: Sculpture :  0\n",
      "E: Work on Paper :  0\n",
      "F: Prints :  0\n",
      "D: Decorative Arts :  0\n",
      "A: Painting :  0\n",
      "H: Ship Models :  0\n",
      "X: Misc :  0\n",
      "nan :  0\n",
      "------------------------------------------------\n",
      "gift of Edward O'Neil\n",
      "G: Photography :  0\n",
      "B: Sculpture :  0\n",
      "E: Work on Paper :  0\n",
      "F: Prints :  152\n",
      "D: Decorative Arts :  0\n",
      "A: Painting :  0\n",
      "H: Ship Models :  0\n",
      "X: Misc :  0\n",
      "nan :  0\n",
      "------------------------------------------------\n",
      "gift of H.J. Koehler, Grandson of P. Koehler\n",
      "G: Photography :  0\n",
      "B: Sculpture :  0\n",
      "E: Work on Paper :  160\n",
      "F: Prints :  0\n",
      "D: Decorative Arts :  0\n",
      "A: Painting :  0\n",
      "H: Ship Models :  0\n",
      "X: Misc :  0\n",
      "nan :  0\n",
      "------------------------------------------------\n",
      "gift of E.T. Meredith III\n",
      "G: Photography :  0\n",
      "B: Sculpture :  0\n",
      "E: Work on Paper :  0\n",
      "F: Prints :  164\n",
      "D: Decorative Arts :  0\n",
      "A: Painting :  0\n",
      "H: Ship Models :  0\n",
      "X: Misc :  0\n",
      "nan :  0\n",
      "------------------------------------------------\n",
      "gift of Adam D. Weinberg in honor of Allison Kemmerer\n",
      "G: Photography :  250\n",
      "B: Sculpture :  0\n",
      "E: Work on Paper :  0\n",
      "F: Prints :  0\n",
      "D: Decorative Arts :  0\n",
      "A: Painting :  0\n",
      "H: Ship Models :  0\n",
      "X: Misc :  0\n",
      "nan :  0\n",
      "------------------------------------------------\n",
      "gift of Katherine D. and Stephen C. Sherrill (PA 1971, and P 2005, 2007, 2010)\n",
      "G: Photography :  262\n",
      "B: Sculpture :  0\n",
      "E: Work on Paper :  0\n",
      "F: Prints :  15\n",
      "D: Decorative Arts :  0\n",
      "A: Painting :  1\n",
      "H: Ship Models :  0\n",
      "X: Misc :  0\n",
      "nan :  0\n",
      "------------------------------------------------\n",
      "gift of Georgia O'Keeffe and Elizabeth Davidson\n",
      "G: Photography :  260\n",
      "B: Sculpture :  0\n",
      "E: Work on Paper :  0\n",
      "F: Prints :  24\n",
      "D: Decorative Arts :  0\n",
      "A: Painting :  0\n",
      "H: Ship Models :  0\n",
      "X: Misc :  0\n",
      "nan :  0\n",
      "------------------------------------------------\n",
      "gift of the Edwin J. Beinecke Trust\n",
      "G: Photography :  780\n",
      "B: Sculpture :  0\n",
      "E: Work on Paper :  0\n",
      "F: Prints :  0\n",
      "D: Decorative Arts :  0\n",
      "A: Painting :  0\n",
      "H: Ship Models :  0\n",
      "X: Misc :  0\n",
      "nan :  0\n",
      "------------------------------------------------\n"
     ]
    }
   ],
   "source": [
    "for each in top_donors['person']:\n",
    "    temp = donor_gift_type(each)\n",
    "    print(each)\n",
    "    for type_gift in df['Class Type'].unique():\n",
    "        print(type_gift,': ', str(int(count_type(temp, type_gift))))\n",
    "    print('------------------------------------------------')"
   ]
  }
 ],
 "metadata": {
  "kernelspec": {
   "display_name": "Python 3 (ipykernel)",
   "language": "python",
   "name": "python3"
  },
  "language_info": {
   "codemirror_mode": {
    "name": "ipython",
    "version": 3
   },
   "file_extension": ".py",
   "mimetype": "text/x-python",
   "name": "python",
   "nbconvert_exporter": "python",
   "pygments_lexer": "ipython3",
   "version": "3.9.5"
  }
 },
 "nbformat": 4,
 "nbformat_minor": 5
}
