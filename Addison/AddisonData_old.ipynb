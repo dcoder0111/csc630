{
 "cells": [
  {
   "cell_type": "code",
   "execution_count": 1,
   "id": "e6552796",
   "metadata": {},
   "outputs": [],
   "source": [
    "import pandas as pd\n",
    "import matplotlib.pyplot as plt\n",
    "import numpy as np\n",
    "from pywaffle import Waffle"
   ]
  },
  {
   "cell_type": "code",
   "execution_count": 2,
   "id": "0e623124",
   "metadata": {},
   "outputs": [
    {
     "name": "stderr",
     "output_type": "stream",
     "text": [
      "/var/folders/g5/23p3mnps53z390h7dn3lf9tm0000gn/T/ipykernel_4825/646566460.py:2: FutureWarning: Passing a negative integer is deprecated in version 1.0 and will not be supported in future version. Instead, use None to not limit the column width.\n",
      "  pd.set_option('display.max_colwidth', -1)\n"
     ]
    }
   ],
   "source": [
    "df = pd.read_csv('/Users/dcoder/Desktop/school/csc630/AGAA_ObjectData.csv', encoding='latin-1')\n",
    "pd.set_option('display.max_colwidth', -1)"
   ]
  },
  {
   "cell_type": "code",
   "execution_count": 3,
   "id": "18bb3380",
   "metadata": {},
   "outputs": [
    {
     "data": {
      "text/html": [
       "<div>\n",
       "<style scoped>\n",
       "    .dataframe tbody tr th:only-of-type {\n",
       "        vertical-align: middle;\n",
       "    }\n",
       "\n",
       "    .dataframe tbody tr th {\n",
       "        vertical-align: top;\n",
       "    }\n",
       "\n",
       "    .dataframe thead th {\n",
       "        text-align: right;\n",
       "    }\n",
       "</style>\n",
       "<table border=\"1\" class=\"dataframe\">\n",
       "  <thead>\n",
       "    <tr style=\"text-align: right;\">\n",
       "      <th></th>\n",
       "      <th>Accession Number</th>\n",
       "      <th>Artist - Sort Name</th>\n",
       "      <th>Full Title</th>\n",
       "      <th>Portfolio (Series) Title</th>\n",
       "      <th>Creation Date</th>\n",
       "      <th>Height</th>\n",
       "      <th>Width</th>\n",
       "      <th>Depth</th>\n",
       "      <th>Media &amp; Support</th>\n",
       "      <th>Credit Line</th>\n",
       "      <th>Class Type</th>\n",
       "    </tr>\n",
       "  </thead>\n",
       "  <tbody>\n",
       "    <tr>\n",
       "      <th>0</th>\n",
       "      <td>2003.23</td>\n",
       "      <td>A, Type</td>\n",
       "      <td>Stand (face)</td>\n",
       "      <td>NaN</td>\n",
       "      <td>2002-2003</td>\n",
       "      <td>24 in.</td>\n",
       "      <td>30 in.</td>\n",
       "      <td>NaN</td>\n",
       "      <td>two-channel video installation</td>\n",
       "      <td>purchased with funds from an anonymous donor and Andrea Feldman (PA 1983)</td>\n",
       "      <td>G: Photography</td>\n",
       "    </tr>\n",
       "    <tr>\n",
       "      <th>1</th>\n",
       "      <td>2007.36</td>\n",
       "      <td>A, Type</td>\n",
       "      <td>Cheer (Slam)</td>\n",
       "      <td>NaN</td>\n",
       "      <td>2006</td>\n",
       "      <td>18 1/2 in.</td>\n",
       "      <td>29 1/2 in.</td>\n",
       "      <td>NaN</td>\n",
       "      <td>chromogenic print</td>\n",
       "      <td>gift of the artists</td>\n",
       "      <td>G: Photography</td>\n",
       "    </tr>\n",
       "    <tr>\n",
       "      <th>2</th>\n",
       "      <td>2007.37</td>\n",
       "      <td>A, Type</td>\n",
       "      <td>Cheer</td>\n",
       "      <td>NaN</td>\n",
       "      <td>2006</td>\n",
       "      <td>NaN</td>\n",
       "      <td>NaN</td>\n",
       "      <td>NaN</td>\n",
       "      <td>single-channel video</td>\n",
       "      <td>gift of the artists</td>\n",
       "      <td>G: Photography</td>\n",
       "    </tr>\n",
       "    <tr>\n",
       "      <th>3</th>\n",
       "      <td>1948.11</td>\n",
       "      <td>Abate, Peter</td>\n",
       "      <td>Wandering</td>\n",
       "      <td>NaN</td>\n",
       "      <td>c. 1947</td>\n",
       "      <td>1 3/4 in.</td>\n",
       "      <td>5 1/8 in.</td>\n",
       "      <td>NaN</td>\n",
       "      <td>bronze</td>\n",
       "      <td>museum purchase</td>\n",
       "      <td>B: Sculpture</td>\n",
       "    </tr>\n",
       "    <tr>\n",
       "      <th>4</th>\n",
       "      <td>1937.37</td>\n",
       "      <td>Abbey, Edwin Austin</td>\n",
       "      <td>Deck of a Ship</td>\n",
       "      <td>NaN</td>\n",
       "      <td>n.d.</td>\n",
       "      <td>15 in.</td>\n",
       "      <td>10 11/16 in.</td>\n",
       "      <td>NaN</td>\n",
       "      <td>graphite, ink wash on wove paper</td>\n",
       "      <td>museum purchase</td>\n",
       "      <td>E: Work on Paper</td>\n",
       "    </tr>\n",
       "    <tr>\n",
       "      <th>...</th>\n",
       "      <td>...</td>\n",
       "      <td>...</td>\n",
       "      <td>...</td>\n",
       "      <td>...</td>\n",
       "      <td>...</td>\n",
       "      <td>...</td>\n",
       "      <td>...</td>\n",
       "      <td>...</td>\n",
       "      <td>...</td>\n",
       "      <td>...</td>\n",
       "      <td>...</td>\n",
       "    </tr>\n",
       "    <tr>\n",
       "      <th>18008</th>\n",
       "      <td>1994.11</td>\n",
       "      <td>Zucker, Joe</td>\n",
       "      <td>Arrow</td>\n",
       "      <td>NaN</td>\n",
       "      <td>1989</td>\n",
       "      <td>41 in.</td>\n",
       "      <td>25 in.</td>\n",
       "      <td>NaN</td>\n",
       "      <td>acrylic on canvas</td>\n",
       "      <td>gift of Richard D. Segal</td>\n",
       "      <td>A: Painting</td>\n",
       "    </tr>\n",
       "    <tr>\n",
       "      <th>18009</th>\n",
       "      <td>1994.12</td>\n",
       "      <td>Zucker, Joe</td>\n",
       "      <td>Joe's Painting #125</td>\n",
       "      <td>NaN</td>\n",
       "      <td>1965</td>\n",
       "      <td>73 1/2 in.</td>\n",
       "      <td>73 1/2 in.</td>\n",
       "      <td>NaN</td>\n",
       "      <td>acrylic on canvas</td>\n",
       "      <td>gift of Richard D. Segal</td>\n",
       "      <td>A: Painting</td>\n",
       "    </tr>\n",
       "    <tr>\n",
       "      <th>18010</th>\n",
       "      <td>1994.13</td>\n",
       "      <td>Zucker, Joe</td>\n",
       "      <td>Portrait of Joseph H. Smith</td>\n",
       "      <td>NaN</td>\n",
       "      <td>1984</td>\n",
       "      <td>75 in.</td>\n",
       "      <td>60 in.</td>\n",
       "      <td>NaN</td>\n",
       "      <td>acrylic on canvas</td>\n",
       "      <td>gift of Richard D. Segal</td>\n",
       "      <td>B: Sculpture</td>\n",
       "    </tr>\n",
       "    <tr>\n",
       "      <th>18011</th>\n",
       "      <td>1994.14</td>\n",
       "      <td>Zucker, Joe</td>\n",
       "      <td>Sprinkling Can</td>\n",
       "      <td>NaN</td>\n",
       "      <td>1980</td>\n",
       "      <td>36 in.</td>\n",
       "      <td>36 in.</td>\n",
       "      <td>NaN</td>\n",
       "      <td>acrylic on canvas</td>\n",
       "      <td>gift of Richard D. Segal</td>\n",
       "      <td>A: Painting</td>\n",
       "    </tr>\n",
       "    <tr>\n",
       "      <th>18012</th>\n",
       "      <td>1974.7</td>\n",
       "      <td>Zuill, Abbie Luella</td>\n",
       "      <td>Still Life of Yellow and Brown Bananas</td>\n",
       "      <td>NaN</td>\n",
       "      <td>n.d.</td>\n",
       "      <td>30 5/16 in.</td>\n",
       "      <td>22 5/16 in.</td>\n",
       "      <td>NaN</td>\n",
       "      <td>oil on canvas</td>\n",
       "      <td>gift of Mr. and Mrs. Stuart P. Feld</td>\n",
       "      <td>A: Painting</td>\n",
       "    </tr>\n",
       "  </tbody>\n",
       "</table>\n",
       "<p>18013 rows × 11 columns</p>\n",
       "</div>"
      ],
      "text/plain": [
       "      Accession Number   Artist - Sort Name  \\\n",
       "0      2003.23          A, Type               \n",
       "1      2007.36          A, Type               \n",
       "2      2007.37          A, Type               \n",
       "3      1948.11          Abate, Peter          \n",
       "4      1937.37          Abbey, Edwin Austin   \n",
       "...        ...                          ...   \n",
       "18008  1994.11          Zucker, Joe           \n",
       "18009  1994.12          Zucker, Joe           \n",
       "18010  1994.13          Zucker, Joe           \n",
       "18011  1994.14          Zucker, Joe           \n",
       "18012  1974.7           Zuill, Abbie Luella   \n",
       "\n",
       "                                   Full Title Portfolio (Series) Title  \\\n",
       "0      Stand (face)                            NaN                       \n",
       "1      Cheer (Slam)                            NaN                       \n",
       "2      Cheer                                   NaN                       \n",
       "3      Wandering                               NaN                       \n",
       "4      Deck of a Ship                          NaN                       \n",
       "...               ...                          ...                       \n",
       "18008  Arrow                                   NaN                       \n",
       "18009  Joe's Painting #125                     NaN                       \n",
       "18010  Portrait of Joseph H. Smith             NaN                       \n",
       "18011  Sprinkling Can                          NaN                       \n",
       "18012  Still Life of Yellow and Brown Bananas  NaN                       \n",
       "\n",
       "      Creation Date       Height         Width Depth  \\\n",
       "0      2002-2003     24 in.       30 in.        NaN    \n",
       "1      2006          18 1/2 in.   29 1/2 in.    NaN    \n",
       "2      2006          NaN          NaN           NaN    \n",
       "3      c. 1947       1 3/4 in.    5 1/8 in.     NaN    \n",
       "4      n.d.          15 in.       10 11/16 in.  NaN    \n",
       "...     ...             ...                ...  ...    \n",
       "18008  1989          41 in.       25 in.        NaN    \n",
       "18009  1965          73 1/2 in.   73 1/2 in.    NaN    \n",
       "18010  1984          75 in.       60 in.        NaN    \n",
       "18011  1980          36 in.       36 in.        NaN    \n",
       "18012  n.d.          30 5/16 in.  22 5/16 in.   NaN    \n",
       "\n",
       "                        Media & Support  \\\n",
       "0      two-channel video installation     \n",
       "1      chromogenic print                  \n",
       "2      single-channel video               \n",
       "3      bronze                             \n",
       "4      graphite, ink wash on wove paper   \n",
       "...                                 ...   \n",
       "18008  acrylic on canvas                  \n",
       "18009  acrylic on canvas                  \n",
       "18010  acrylic on canvas                  \n",
       "18011  acrylic on canvas                  \n",
       "18012  oil on canvas                      \n",
       "\n",
       "                                                                     Credit Line  \\\n",
       "0      purchased with funds from an anonymous donor and Andrea Feldman (PA 1983)   \n",
       "1      gift of the artists                                                         \n",
       "2      gift of the artists                                                         \n",
       "3      museum purchase                                                             \n",
       "4      museum purchase                                                             \n",
       "...                ...                                                             \n",
       "18008  gift of Richard D. Segal                                                    \n",
       "18009  gift of Richard D. Segal                                                    \n",
       "18010  gift of Richard D. Segal                                                    \n",
       "18011  gift of Richard D. Segal                                                    \n",
       "18012  gift of Mr. and Mrs. Stuart P. Feld                                         \n",
       "\n",
       "             Class Type  \n",
       "0      G: Photography    \n",
       "1      G: Photography    \n",
       "2      G: Photography    \n",
       "3      B: Sculpture      \n",
       "4      E: Work on Paper  \n",
       "...                 ...  \n",
       "18008  A: Painting       \n",
       "18009  A: Painting       \n",
       "18010  B: Sculpture      \n",
       "18011  A: Painting       \n",
       "18012  A: Painting       \n",
       "\n",
       "[18013 rows x 11 columns]"
      ]
     },
     "execution_count": 3,
     "metadata": {},
     "output_type": "execute_result"
    }
   ],
   "source": [
    "df"
   ]
  },
  {
   "cell_type": "code",
   "execution_count": 4,
   "id": "b6322b17",
   "metadata": {},
   "outputs": [
    {
     "data": {
      "text/html": [
       "<div>\n",
       "<style scoped>\n",
       "    .dataframe tbody tr th:only-of-type {\n",
       "        vertical-align: middle;\n",
       "    }\n",
       "\n",
       "    .dataframe tbody tr th {\n",
       "        vertical-align: top;\n",
       "    }\n",
       "\n",
       "    .dataframe thead th {\n",
       "        text-align: right;\n",
       "    }\n",
       "</style>\n",
       "<table border=\"1\" class=\"dataframe\">\n",
       "  <thead>\n",
       "    <tr style=\"text-align: right;\">\n",
       "      <th></th>\n",
       "      <th>Accession Number</th>\n",
       "      <th>Artist - Sort Name</th>\n",
       "      <th>Full Title</th>\n",
       "      <th>Portfolio (Series) Title</th>\n",
       "      <th>Creation Date</th>\n",
       "      <th>Height</th>\n",
       "      <th>Width</th>\n",
       "      <th>Depth</th>\n",
       "      <th>Media &amp; Support</th>\n",
       "      <th>Credit Line</th>\n",
       "      <th>Class Type</th>\n",
       "    </tr>\n",
       "  </thead>\n",
       "  <tbody>\n",
       "    <tr>\n",
       "      <th>count</th>\n",
       "      <td>18013</td>\n",
       "      <td>18013</td>\n",
       "      <td>18013</td>\n",
       "      <td>9365</td>\n",
       "      <td>18012</td>\n",
       "      <td>16317</td>\n",
       "      <td>16186</td>\n",
       "      <td>289</td>\n",
       "      <td>18011</td>\n",
       "      <td>17897</td>\n",
       "      <td>17999</td>\n",
       "    </tr>\n",
       "    <tr>\n",
       "      <th>unique</th>\n",
       "      <td>18013</td>\n",
       "      <td>2323</td>\n",
       "      <td>14704</td>\n",
       "      <td>474</td>\n",
       "      <td>1198</td>\n",
       "      <td>747</td>\n",
       "      <td>742</td>\n",
       "      <td>66</td>\n",
       "      <td>2640</td>\n",
       "      <td>1056</td>\n",
       "      <td>8</td>\n",
       "    </tr>\n",
       "    <tr>\n",
       "      <th>top</th>\n",
       "      <td>2003.23</td>\n",
       "      <td>Muybridge, Eadweard James</td>\n",
       "      <td>Untitled</td>\n",
       "      <td>Sketchbook</td>\n",
       "      <td>n.d.</td>\n",
       "      <td>8 in.</td>\n",
       "      <td>10 in.</td>\n",
       "      <td>5/8 in.</td>\n",
       "      <td>gelatin silver print</td>\n",
       "      <td>museum purchase</td>\n",
       "      <td>G: Photography</td>\n",
       "    </tr>\n",
       "    <tr>\n",
       "      <th>freq</th>\n",
       "      <td>1</td>\n",
       "      <td>974</td>\n",
       "      <td>508</td>\n",
       "      <td>861</td>\n",
       "      <td>2281</td>\n",
       "      <td>469</td>\n",
       "      <td>480</td>\n",
       "      <td>39</td>\n",
       "      <td>3570</td>\n",
       "      <td>5302</td>\n",
       "      <td>8533</td>\n",
       "    </tr>\n",
       "  </tbody>\n",
       "</table>\n",
       "</div>"
      ],
      "text/plain": [
       "       Accession Number         Artist - Sort Name Full Title  \\\n",
       "count   18013            18013                      18013       \n",
       "unique  18013            2323                       14704       \n",
       "top     2003.23          Muybridge, Eadweard James  Untitled    \n",
       "freq    1                974                        508         \n",
       "\n",
       "       Portfolio (Series) Title Creation Date Height   Width    Depth  \\\n",
       "count   9365                     18012         16317  16186   289       \n",
       "unique  474                      1198          747    742     66        \n",
       "top     Sketchbook               n.d.          8 in.  10 in.  5/8 in.   \n",
       "freq    861                      2281          469    480     39        \n",
       "\n",
       "             Media & Support      Credit Line      Class Type  \n",
       "count   18011                 17897            17999           \n",
       "unique  2640                  1056             8               \n",
       "top     gelatin silver print  museum purchase  G: Photography  \n",
       "freq    3570                  5302             8533            "
      ]
     },
     "execution_count": 4,
     "metadata": {},
     "output_type": "execute_result"
    }
   ],
   "source": [
    "df.describe()"
   ]
  },
  {
   "cell_type": "code",
   "execution_count": 5,
   "id": "40e369d4",
   "metadata": {},
   "outputs": [],
   "source": [
    "df_environment = pd.read_excel('/Users/dcoder/Desktop/school/csc630/Storage_1.xls')"
   ]
  },
  {
   "cell_type": "code",
   "execution_count": 6,
   "id": "9697e0f0",
   "metadata": {},
   "outputs": [
    {
     "data": {
      "text/html": [
       "<div>\n",
       "<style scoped>\n",
       "    .dataframe tbody tr th:only-of-type {\n",
       "        vertical-align: middle;\n",
       "    }\n",
       "\n",
       "    .dataframe tbody tr th {\n",
       "        vertical-align: top;\n",
       "    }\n",
       "\n",
       "    .dataframe thead th {\n",
       "        text-align: right;\n",
       "    }\n",
       "</style>\n",
       "<table border=\"1\" class=\"dataframe\">\n",
       "  <thead>\n",
       "    <tr style=\"text-align: right;\">\n",
       "      <th></th>\n",
       "      <th>Painting Storage</th>\n",
       "      <th>Unnamed: 1</th>\n",
       "      <th>Unnamed: 2</th>\n",
       "      <th>Unnamed: 3</th>\n",
       "    </tr>\n",
       "  </thead>\n",
       "  <tbody>\n",
       "    <tr>\n",
       "      <th>0</th>\n",
       "      <td>NaN</td>\n",
       "      <td>NaN</td>\n",
       "      <td>NaN</td>\n",
       "      <td>NaN</td>\n",
       "    </tr>\n",
       "    <tr>\n",
       "      <th>1</th>\n",
       "      <td>Date</td>\n",
       "      <td>Time</td>\n",
       "      <td>Humidity</td>\n",
       "      <td>Temperature</td>\n",
       "    </tr>\n",
       "    <tr>\n",
       "      <th>2</th>\n",
       "      <td>NaN</td>\n",
       "      <td>NaN</td>\n",
       "      <td>NaN</td>\n",
       "      <td>NaN</td>\n",
       "    </tr>\n",
       "    <tr>\n",
       "      <th>3</th>\n",
       "      <td>2020-09-24 00:00:00</td>\n",
       "      <td>00:00:00</td>\n",
       "      <td>44.1</td>\n",
       "      <td>71.7</td>\n",
       "    </tr>\n",
       "    <tr>\n",
       "      <th>4</th>\n",
       "      <td>2020-09-24 00:00:00</td>\n",
       "      <td>01:00:00</td>\n",
       "      <td>44.1</td>\n",
       "      <td>71.7</td>\n",
       "    </tr>\n",
       "    <tr>\n",
       "      <th>...</th>\n",
       "      <td>...</td>\n",
       "      <td>...</td>\n",
       "      <td>...</td>\n",
       "      <td>...</td>\n",
       "    </tr>\n",
       "    <tr>\n",
       "      <th>8772</th>\n",
       "      <td>2021-09-24 00:00:00</td>\n",
       "      <td>09:00:00</td>\n",
       "      <td>46.2</td>\n",
       "      <td>69.7</td>\n",
       "    </tr>\n",
       "    <tr>\n",
       "      <th>8773</th>\n",
       "      <td>2021-09-24 00:00:00</td>\n",
       "      <td>10:00:00</td>\n",
       "      <td>46</td>\n",
       "      <td>70.2</td>\n",
       "    </tr>\n",
       "    <tr>\n",
       "      <th>8774</th>\n",
       "      <td>2021-09-24 00:00:00</td>\n",
       "      <td>11:00:00</td>\n",
       "      <td>45.7</td>\n",
       "      <td>70.7</td>\n",
       "    </tr>\n",
       "    <tr>\n",
       "      <th>8775</th>\n",
       "      <td>2021-09-24 00:00:00</td>\n",
       "      <td>12:00:00</td>\n",
       "      <td>46.5</td>\n",
       "      <td>69.7</td>\n",
       "    </tr>\n",
       "    <tr>\n",
       "      <th>8776</th>\n",
       "      <td>******************************** End of Report *********************************</td>\n",
       "      <td>NaN</td>\n",
       "      <td>NaN</td>\n",
       "      <td>NaN</td>\n",
       "    </tr>\n",
       "  </tbody>\n",
       "</table>\n",
       "<p>8777 rows × 4 columns</p>\n",
       "</div>"
      ],
      "text/plain": [
       "                                                                       Painting Storage  \\\n",
       "0     NaN                                                                                 \n",
       "1     Date                                                                                \n",
       "2     NaN                                                                                 \n",
       "3     2020-09-24 00:00:00                                                                 \n",
       "4     2020-09-24 00:00:00                                                                 \n",
       "...                   ...                                                                 \n",
       "8772  2021-09-24 00:00:00                                                                 \n",
       "8773  2021-09-24 00:00:00                                                                 \n",
       "8774  2021-09-24 00:00:00                                                                 \n",
       "8775  2021-09-24 00:00:00                                                                 \n",
       "8776   ******************************** End of Report *********************************   \n",
       "\n",
       "     Unnamed: 1 Unnamed: 2   Unnamed: 3  \n",
       "0     NaN        NaN        NaN          \n",
       "1     Time       Humidity   Temperature  \n",
       "2     NaN        NaN        NaN          \n",
       "3     00:00:00   44.1       71.7         \n",
       "4     01:00:00   44.1       71.7         \n",
       "...        ...    ...        ...         \n",
       "8772  09:00:00   46.2       69.7         \n",
       "8773  10:00:00   46         70.2         \n",
       "8774  11:00:00   45.7       70.7         \n",
       "8775  12:00:00   46.5       69.7         \n",
       "8776  NaN        NaN        NaN          \n",
       "\n",
       "[8777 rows x 4 columns]"
      ]
     },
     "execution_count": 6,
     "metadata": {},
     "output_type": "execute_result"
    }
   ],
   "source": [
    "df_environment"
   ]
  },
  {
   "cell_type": "code",
   "execution_count": 7,
   "id": "67290eba",
   "metadata": {},
   "outputs": [
    {
     "data": {
      "text/html": [
       "<div>\n",
       "<style scoped>\n",
       "    .dataframe tbody tr th:only-of-type {\n",
       "        vertical-align: middle;\n",
       "    }\n",
       "\n",
       "    .dataframe tbody tr th {\n",
       "        vertical-align: top;\n",
       "    }\n",
       "\n",
       "    .dataframe thead th {\n",
       "        text-align: right;\n",
       "    }\n",
       "</style>\n",
       "<table border=\"1\" class=\"dataframe\">\n",
       "  <thead>\n",
       "    <tr style=\"text-align: right;\">\n",
       "      <th></th>\n",
       "      <th>Painting Storage</th>\n",
       "      <th>Unnamed: 1</th>\n",
       "      <th>Unnamed: 2</th>\n",
       "      <th>Unnamed: 3</th>\n",
       "    </tr>\n",
       "  </thead>\n",
       "  <tbody>\n",
       "    <tr>\n",
       "      <th>count</th>\n",
       "      <td>8775</td>\n",
       "      <td>8774</td>\n",
       "      <td>8774</td>\n",
       "      <td>8774.0</td>\n",
       "    </tr>\n",
       "    <tr>\n",
       "      <th>unique</th>\n",
       "      <td>368</td>\n",
       "      <td>25</td>\n",
       "      <td>157</td>\n",
       "      <td>56.0</td>\n",
       "    </tr>\n",
       "    <tr>\n",
       "      <th>top</th>\n",
       "      <td>2020-11-01 00:00:00</td>\n",
       "      <td>01:00:00</td>\n",
       "      <td>44</td>\n",
       "      <td>71.9</td>\n",
       "    </tr>\n",
       "    <tr>\n",
       "      <th>freq</th>\n",
       "      <td>25</td>\n",
       "      <td>367</td>\n",
       "      <td>240</td>\n",
       "      <td>1158.0</td>\n",
       "    </tr>\n",
       "  </tbody>\n",
       "</table>\n",
       "</div>"
      ],
      "text/plain": [
       "           Painting Storage Unnamed: 1  Unnamed: 2  Unnamed: 3\n",
       "count   8775                 8774       8774        8774.0    \n",
       "unique  368                  25         157         56.0      \n",
       "top     2020-11-01 00:00:00  01:00:00   44          71.9      \n",
       "freq    25                   367        240         1158.0    "
      ]
     },
     "execution_count": 7,
     "metadata": {},
     "output_type": "execute_result"
    }
   ],
   "source": [
    "df_environment.describe()"
   ]
  },
  {
   "cell_type": "code",
   "execution_count": 8,
   "id": "69b6ea38",
   "metadata": {},
   "outputs": [
    {
     "data": {
      "text/plain": [
       "Painting Storage    2\n",
       "Unnamed: 1          3\n",
       "Unnamed: 2          3\n",
       "Unnamed: 3          3\n",
       "dtype: int64"
      ]
     },
     "execution_count": 8,
     "metadata": {},
     "output_type": "execute_result"
    }
   ],
   "source": [
    "df_environment.isnull().sum()"
   ]
  },
  {
   "cell_type": "code",
   "execution_count": 9,
   "id": "2f7aa0cf",
   "metadata": {},
   "outputs": [],
   "source": [
    "df_environment.dropna(inplace=True)"
   ]
  },
  {
   "cell_type": "code",
   "execution_count": 10,
   "id": "c853387c",
   "metadata": {},
   "outputs": [
    {
     "data": {
      "text/html": [
       "<div>\n",
       "<style scoped>\n",
       "    .dataframe tbody tr th:only-of-type {\n",
       "        vertical-align: middle;\n",
       "    }\n",
       "\n",
       "    .dataframe tbody tr th {\n",
       "        vertical-align: top;\n",
       "    }\n",
       "\n",
       "    .dataframe thead th {\n",
       "        text-align: right;\n",
       "    }\n",
       "</style>\n",
       "<table border=\"1\" class=\"dataframe\">\n",
       "  <thead>\n",
       "    <tr style=\"text-align: right;\">\n",
       "      <th></th>\n",
       "      <th>Painting Storage</th>\n",
       "      <th>Unnamed: 1</th>\n",
       "      <th>Unnamed: 2</th>\n",
       "      <th>Unnamed: 3</th>\n",
       "    </tr>\n",
       "  </thead>\n",
       "  <tbody>\n",
       "    <tr>\n",
       "      <th>1</th>\n",
       "      <td>Date</td>\n",
       "      <td>Time</td>\n",
       "      <td>Humidity</td>\n",
       "      <td>Temperature</td>\n",
       "    </tr>\n",
       "    <tr>\n",
       "      <th>3</th>\n",
       "      <td>2020-09-24 00:00:00</td>\n",
       "      <td>00:00:00</td>\n",
       "      <td>44.1</td>\n",
       "      <td>71.7</td>\n",
       "    </tr>\n",
       "    <tr>\n",
       "      <th>4</th>\n",
       "      <td>2020-09-24 00:00:00</td>\n",
       "      <td>01:00:00</td>\n",
       "      <td>44.1</td>\n",
       "      <td>71.7</td>\n",
       "    </tr>\n",
       "    <tr>\n",
       "      <th>5</th>\n",
       "      <td>2020-09-24 00:00:00</td>\n",
       "      <td>02:00:00</td>\n",
       "      <td>44.2</td>\n",
       "      <td>71.6</td>\n",
       "    </tr>\n",
       "    <tr>\n",
       "      <th>6</th>\n",
       "      <td>2020-09-24 00:00:00</td>\n",
       "      <td>03:00:00</td>\n",
       "      <td>44.2</td>\n",
       "      <td>71.6</td>\n",
       "    </tr>\n",
       "  </tbody>\n",
       "</table>\n",
       "</div>"
      ],
      "text/plain": [
       "      Painting Storage Unnamed: 1 Unnamed: 2   Unnamed: 3\n",
       "1  Date                 Time       Humidity   Temperature\n",
       "3  2020-09-24 00:00:00  00:00:00   44.1       71.7       \n",
       "4  2020-09-24 00:00:00  01:00:00   44.1       71.7       \n",
       "5  2020-09-24 00:00:00  02:00:00   44.2       71.6       \n",
       "6  2020-09-24 00:00:00  03:00:00   44.2       71.6       "
      ]
     },
     "execution_count": 10,
     "metadata": {},
     "output_type": "execute_result"
    }
   ],
   "source": [
    "df_environment.head()"
   ]
  },
  {
   "cell_type": "code",
   "execution_count": 11,
   "id": "3004fd9c",
   "metadata": {},
   "outputs": [],
   "source": [
    "new_header = df_environment.iloc[0] #grab the first row for the header\n",
    "df_environment = df_environment[1:] #take the data less the header row\n",
    "df_environment.columns = new_header #set the header row as the df header"
   ]
  },
  {
   "cell_type": "code",
   "execution_count": 12,
   "id": "33f571cf",
   "metadata": {},
   "outputs": [
    {
     "data": {
      "text/html": [
       "<div>\n",
       "<style scoped>\n",
       "    .dataframe tbody tr th:only-of-type {\n",
       "        vertical-align: middle;\n",
       "    }\n",
       "\n",
       "    .dataframe tbody tr th {\n",
       "        vertical-align: top;\n",
       "    }\n",
       "\n",
       "    .dataframe thead th {\n",
       "        text-align: right;\n",
       "    }\n",
       "</style>\n",
       "<table border=\"1\" class=\"dataframe\">\n",
       "  <thead>\n",
       "    <tr style=\"text-align: right;\">\n",
       "      <th>1</th>\n",
       "      <th>Date</th>\n",
       "      <th>Time</th>\n",
       "      <th>Humidity</th>\n",
       "      <th>Temperature</th>\n",
       "    </tr>\n",
       "  </thead>\n",
       "  <tbody>\n",
       "    <tr>\n",
       "      <th>3</th>\n",
       "      <td>2020-09-24 00:00:00</td>\n",
       "      <td>00:00:00</td>\n",
       "      <td>44.1</td>\n",
       "      <td>71.7</td>\n",
       "    </tr>\n",
       "    <tr>\n",
       "      <th>4</th>\n",
       "      <td>2020-09-24 00:00:00</td>\n",
       "      <td>01:00:00</td>\n",
       "      <td>44.1</td>\n",
       "      <td>71.7</td>\n",
       "    </tr>\n",
       "    <tr>\n",
       "      <th>5</th>\n",
       "      <td>2020-09-24 00:00:00</td>\n",
       "      <td>02:00:00</td>\n",
       "      <td>44.2</td>\n",
       "      <td>71.6</td>\n",
       "    </tr>\n",
       "    <tr>\n",
       "      <th>6</th>\n",
       "      <td>2020-09-24 00:00:00</td>\n",
       "      <td>03:00:00</td>\n",
       "      <td>44.2</td>\n",
       "      <td>71.6</td>\n",
       "    </tr>\n",
       "    <tr>\n",
       "      <th>7</th>\n",
       "      <td>2020-09-24 00:00:00</td>\n",
       "      <td>04:00:00</td>\n",
       "      <td>44.3</td>\n",
       "      <td>71.6</td>\n",
       "    </tr>\n",
       "    <tr>\n",
       "      <th>...</th>\n",
       "      <td>...</td>\n",
       "      <td>...</td>\n",
       "      <td>...</td>\n",
       "      <td>...</td>\n",
       "    </tr>\n",
       "    <tr>\n",
       "      <th>8771</th>\n",
       "      <td>2021-09-24 00:00:00</td>\n",
       "      <td>08:00:00</td>\n",
       "      <td>45.7</td>\n",
       "      <td>70.3</td>\n",
       "    </tr>\n",
       "    <tr>\n",
       "      <th>8772</th>\n",
       "      <td>2021-09-24 00:00:00</td>\n",
       "      <td>09:00:00</td>\n",
       "      <td>46.2</td>\n",
       "      <td>69.7</td>\n",
       "    </tr>\n",
       "    <tr>\n",
       "      <th>8773</th>\n",
       "      <td>2021-09-24 00:00:00</td>\n",
       "      <td>10:00:00</td>\n",
       "      <td>46</td>\n",
       "      <td>70.2</td>\n",
       "    </tr>\n",
       "    <tr>\n",
       "      <th>8774</th>\n",
       "      <td>2021-09-24 00:00:00</td>\n",
       "      <td>11:00:00</td>\n",
       "      <td>45.7</td>\n",
       "      <td>70.7</td>\n",
       "    </tr>\n",
       "    <tr>\n",
       "      <th>8775</th>\n",
       "      <td>2021-09-24 00:00:00</td>\n",
       "      <td>12:00:00</td>\n",
       "      <td>46.5</td>\n",
       "      <td>69.7</td>\n",
       "    </tr>\n",
       "  </tbody>\n",
       "</table>\n",
       "<p>8773 rows × 4 columns</p>\n",
       "</div>"
      ],
      "text/plain": [
       "1                    Date      Time Humidity Temperature\n",
       "3     2020-09-24 00:00:00  00:00:00  44.1     71.7      \n",
       "4     2020-09-24 00:00:00  01:00:00  44.1     71.7      \n",
       "5     2020-09-24 00:00:00  02:00:00  44.2     71.6      \n",
       "6     2020-09-24 00:00:00  03:00:00  44.2     71.6      \n",
       "7     2020-09-24 00:00:00  04:00:00  44.3     71.6      \n",
       "...                   ...       ...   ...      ...      \n",
       "8771  2021-09-24 00:00:00  08:00:00  45.7     70.3      \n",
       "8772  2021-09-24 00:00:00  09:00:00  46.2     69.7      \n",
       "8773  2021-09-24 00:00:00  10:00:00  46       70.2      \n",
       "8774  2021-09-24 00:00:00  11:00:00  45.7     70.7      \n",
       "8775  2021-09-24 00:00:00  12:00:00  46.5     69.7      \n",
       "\n",
       "[8773 rows x 4 columns]"
      ]
     },
     "execution_count": 12,
     "metadata": {},
     "output_type": "execute_result"
    }
   ],
   "source": [
    "df_environment"
   ]
  },
  {
   "cell_type": "code",
   "execution_count": 13,
   "id": "51863222",
   "metadata": {},
   "outputs": [
    {
     "data": {
      "text/plain": [
       "[<matplotlib.lines.Line2D at 0x7f84adf92430>]"
      ]
     },
     "execution_count": 13,
     "metadata": {},
     "output_type": "execute_result"
    },
    {
     "data": {
      "image/png": "[encoded data removed]",
      "text/plain": [
       "<Figure size 432x288 with 1 Axes>"
      ]
     },
     "metadata": {
      "needs_background": "light"
     },
     "output_type": "display_data"
    }
   ],
   "source": [
    "plt.plot(range(len(df_environment)), df_environment['Humidity'])"
   ]
  },
  {
   "cell_type": "code",
   "execution_count": 14,
   "id": "12c32dc5",
   "metadata": {},
   "outputs": [
    {
     "data": {
      "text/plain": [
       "[<matplotlib.lines.Line2D at 0x7f84adfd4220>]"
      ]
     },
     "execution_count": 14,
     "metadata": {},
     "output_type": "execute_result"
    },
    {
     "data": {
      "image/png": "[encoded data removed]",
      "text/plain": [
       "<Figure size 432x288 with 1 Axes>"
      ]
     },
     "metadata": {
      "needs_background": "light"
     },
     "output_type": "display_data"
    }
   ],
   "source": [
    "plt.plot(range(len(df_environment)), df_environment['Temperature'])"
   ]
  },
  {
   "cell_type": "code",
   "execution_count": 15,
   "id": "19778c40",
   "metadata": {},
   "outputs": [
    {
     "data": {
      "text/plain": [
       "<matplotlib.legend.Legend at 0x7f84adfed3a0>"
      ]
     },
     "execution_count": 15,
     "metadata": {},
     "output_type": "execute_result"
    },
    {
     "data": {
      "image/png": "[encoded data removed]",
      "text/plain": [
       "<Figure size 3200x1600 with 1 Axes>"
      ]
     },
     "metadata": {
      "needs_background": "light"
     },
     "output_type": "display_data"
    }
   ],
   "source": [
    "from matplotlib.pyplot import figure\n",
    "\n",
    "figure(figsize=(20, 10), dpi=160)\n",
    "\n",
    "plt.plot(range(len(df_environment)), df_environment['Humidity'])\n",
    "\n",
    "plt.plot(range(len(df_environment)), df_environment['Temperature'])\n",
    "\n",
    "plt.xlabel('row')\n",
    "plt.ylabel('temp and humidity')\n",
    "plt.title('temp and humidity to time')\n",
    "\n",
    "# add a legend that discloses which line is which, however, we must past it in according to when each is created\n",
    "plt.legend(['line 0', 'line 1'])"
   ]
  },
  {
   "cell_type": "code",
   "execution_count": 16,
   "id": "b4d768e9",
   "metadata": {},
   "outputs": [
    {
     "data": {
      "text/plain": [
       "Index(['Accession Number', 'Artist - Sort Name', 'Full Title',\n",
       "       'Portfolio (Series) Title', 'Creation Date', 'Height', 'Width', 'Depth',\n",
       "       'Media & Support', 'Credit Line', 'Class Type'],\n",
       "      dtype='object')"
      ]
     },
     "execution_count": 16,
     "metadata": {},
     "output_type": "execute_result"
    }
   ],
   "source": [
    "df.columns"
   ]
  },
  {
   "cell_type": "code",
   "execution_count": 17,
   "id": "a441b4c0",
   "metadata": {},
   "outputs": [
    {
     "data": {
      "text/plain": [
       "array(['G: Photography', 'B: Sculpture', 'E: Work on Paper', 'F: Prints',\n",
       "       'D: Decorative Arts', 'A: Painting', 'H: Ship Models', 'X: Misc',\n",
       "       nan], dtype=object)"
      ]
     },
     "execution_count": 17,
     "metadata": {},
     "output_type": "execute_result"
    }
   ],
   "source": [
    "df['Class Type'].unique()"
   ]
  },
  {
   "cell_type": "code",
   "execution_count": 18,
   "id": "461352cb",
   "metadata": {},
   "outputs": [
    {
     "data": {
      "text/plain": [
       "8533"
      ]
     },
     "execution_count": 18,
     "metadata": {},
     "output_type": "execute_result"
    }
   ],
   "source": [
    "df[df['Class Type']=='G: Photography'].count()[0]"
   ]
  },
  {
   "cell_type": "code",
   "execution_count": 19,
   "id": "946db55f",
   "metadata": {},
   "outputs": [
    {
     "name": "stdout",
     "output_type": "stream",
     "text": [
      "[8533, 408, 2807, 5029, 359, 823, 24, 16, 0]\n"
     ]
    }
   ],
   "source": [
    "number_types = []\n",
    "for class_type in df['Class Type'].unique():\n",
    "  number_types.append(df[df['Class Type']==class_type].count()[0])\n",
    "print(number_types)"
   ]
  },
  {
   "cell_type": "code",
   "execution_count": 20,
   "id": "c10da69b",
   "metadata": {},
   "outputs": [],
   "source": [
    "data ={\n",
    "        'types': df['Class Type'].unique(),\n",
    "        'number_types': number_types\n",
    "     }\n",
    "  \n",
    "new_df = pd.DataFrame(data)"
   ]
  },
  {
   "cell_type": "code",
   "execution_count": 21,
   "id": "7184a3ff",
   "metadata": {},
   "outputs": [
    {
     "data": {
      "text/plain": [
       "array(['purchased with funds from an anonymous donor and Andrea Feldman (PA 1983)',\n",
       "       'gift of the artists', 'museum purchase', ...,\n",
       "       'gift of anonymous donor in memory of Beth Lisa Feldman',\n",
       "       'gift of Richard D. Segal', 'gift of Mr. and Mrs. Stuart P. Feld '],\n",
       "      dtype=object)"
      ]
     },
     "execution_count": 21,
     "metadata": {},
     "output_type": "execute_result"
    }
   ],
   "source": [
    "df['Credit Line'].unique()"
   ]
  },
  {
   "cell_type": "code",
   "execution_count": 22,
   "id": "1dee9725",
   "metadata": {},
   "outputs": [
    {
     "name": "stdout",
     "output_type": "stream",
     "text": [
      "802\n"
     ]
    }
   ],
   "source": [
    "total_gifts = 0\n",
    "all_gifts = []\n",
    "for x in df['Credit Line'].unique():\n",
    "    if \"gift of\" in str(x):\n",
    "        if \"anonymous\" not in str(x):\n",
    "            if \"gift of the artist\" not in str(x):\n",
    "                if \"Foundation\" not in str(x):\n",
    "                    if \"Fund\" not in str(x):\n",
    "                        if \"purchase\" not in str(x):\n",
    "                            total_gifts += 1\n",
    "                            all_gifts.append(str(x))\n",
    "print(total_gifts)"
   ]
  },
  {
   "cell_type": "code",
   "execution_count": 23,
   "id": "31f5a41e",
   "metadata": {},
   "outputs": [
    {
     "data": {
      "text/plain": [
       "'purchased with funds from an anonymous donor and Andrea Feldman (PA 1983)'"
      ]
     },
     "execution_count": 23,
     "metadata": {},
     "output_type": "execute_result"
    }
   ],
   "source": [
    "df['Credit Line'].unique()[0]"
   ]
  },
  {
   "cell_type": "code",
   "execution_count": 24,
   "id": "80beda23",
   "metadata": {},
   "outputs": [
    {
     "data": {
      "text/plain": [
       "['gift of Robert Feldman (PA 1954) in memory of Beth Lisa Feldman',\n",
       " 'gift of Linda Feldman in memory of Beth Lisa Feldman',\n",
       " 'pruchased as the gift of Sam Petok',\n",
       " 'gift of Harry Shapiro',\n",
       " 'gift of Paul Stephens',\n",
       " 'gift of Robert Schussel',\n",
       " \"gift of Georgia O'Keeffe and Elizabeth Davidson\",\n",
       " 'gift of Betty and Sidney Feldman',\n",
       " 'gift of Peter Halley (PA 1971), Addison Art Drive',\n",
       " 'gift of Robert A. Feldman (PA 1954) in memory of Beth Lisa Feldman']"
      ]
     },
     "execution_count": 24,
     "metadata": {},
     "output_type": "execute_result"
    }
   ],
   "source": [
    "all_gifts[:10]"
   ]
  },
  {
   "cell_type": "code",
   "execution_count": 25,
   "id": "d3e60894",
   "metadata": {},
   "outputs": [
    {
     "name": "stdout",
     "output_type": "stream",
     "text": [
      "[72, 15, 1, 38, 57, 1, 284, 15, 1, 13, 11, 4, 2, 5, 26, 1, 1, 17, 1, 8, 2, 1, 77, 30, 15, 30, 1, 7, 5, 4, 2, 1, 250, 26, 2, 12, 4, 5, 24, 126, 55, 10, 1, 1, 30, 5, 1, 1, 1, 10, 4, 1, 1, 1, 1, 1, 1, 28, 5, 1, 15, 1, 10, 1, 3, 1, 2, 1, 10, 1, 1, 1, 11, 6, 4, 1, 9, 1, 1, 1, 34, 12, 2, 278, 9, 2, 1, 1, 1, 12, 1, 1, 9, 2, 1, 1, 1, 1, 1, 1, 1, 152, 6, 2, 25, 1, 2, 4, 8, 2, 6, 26, 2, 1, 1, 1, 101, 49, 1, 1, 4, 34, 4, 9, 4, 6, 1, 7, 22, 1, 1, 3, 5, 13, 21, 1, 6, 1, 92, 1, 1, 8, 5, 7, 18, 5, 1, 13, 1, 1, 137, 1, 1, 1, 1, 2, 4, 1, 1, 1, 134, 6, 10, 1, 5, 1, 1, 1, 19, 1, 1, 1, 6, 4, 1, 10, 1, 1, 1, 1, 3, 22, 2, 9, 1, 1, 1, 1, 2, 2, 3, 2, 7, 1, 2, 1, 1, 3, 1, 1, 9, 1, 5, 2, 5, 8, 1, 18, 12, 22, 1, 1, 1, 3, 6, 4, 17, 2, 1, 12, 1, 1, 10, 4, 65, 1, 5, 1, 2, 2, 1, 21, 3, 1, 13, 10, 17, 1, 1, 1, 45, 1, 10, 1, 22, 9, 1, 1, 1, 1, 1, 1, 55, 1, 1, 2, 1, 11, 9, 1, 1, 3, 2, 1, 1, 21, 7, 118, 1, 1, 5, 1, 1, 1, 6, 3, 1, 1, 5, 1, 2, 1, 1, 2, 8, 4, 28, 1, 42, 1, 1, 1, 1, 1, 1, 14, 4, 5, 1, 19, 6, 1, 1, 1, 1, 21, 1, 2, 1, 16, 1, 1, 7, 3, 98, 6, 2, 30, 2, 3, 3, 1, 3, 2, 36, 1, 1, 8, 28, 1, 1, 3, 48, 1, 1, 40, 60, 55, 1, 2, 1, 3, 1, 1, 1, 2, 1, 1, 1, 5, 2, 25, 1, 2, 5, 1, 5, 1, 2, 1, 2, 2, 3, 1, 1, 4, 3, 2, 1, 1, 1, 5, 51, 1, 1, 1, 1, 1, 1, 4, 11, 1, 1, 1, 1, 1, 128, 71, 76, 1, 1, 1, 1, 2, 2, 1, 8, 2, 1, 1, 1, 1, 20, 1, 2, 1, 1, 1, 31, 1, 1, 9, 1, 3, 2, 2, 1, 2, 13, 1, 2, 8, 7, 9, 1, 1, 1, 10, 1, 1, 4, 2, 2, 1, 9, 6, 1, 25, 1, 1, 1, 40, 3, 32, 1, 1, 1, 1, 8, 1, 1, 1, 1, 1, 5, 1, 10, 1, 6, 1, 1, 1, 1, 3, 1, 1, 1, 1, 1, 1, 2, 1, 3, 1, 1, 1, 1, 1, 1, 4, 1, 1, 1, 3, 160, 1, 2, 1, 4, 1, 14, 15, 1, 1, 1, 1, 2, 2, 1, 1, 1, 1, 2, 6, 1, 3, 12, 4, 1, 40, 2, 3, 9, 1, 1, 1, 1, 1, 1, 1, 1, 1, 1, 1, 1, 4, 1, 1, 1, 1, 1, 2, 1, 1, 1, 1, 33, 1, 1, 1, 1, 3, 1, 10, 2, 1, 1, 3, 14, 1, 2, 1, 3, 2, 31, 1, 1, 1, 4, 1, 1, 1, 1, 1, 2, 3, 19, 1, 1, 1, 4, 1, 1, 16, 1, 1, 1, 1, 2, 1, 17, 1, 1, 1, 1, 1, 1, 5, 780, 1, 1, 1, 1, 1, 14, 1, 1, 1, 1, 4, 1, 1, 2, 1, 2, 1, 1, 2, 1, 1, 1, 1, 1, 1, 1, 1, 9, 1, 1, 1, 1, 1, 3, 2, 1, 2, 1, 1, 1, 1, 62, 1, 1, 5, 1, 1, 2, 1, 1, 3, 1, 13, 14, 2, 1, 1, 2, 1, 1, 1, 1, 4, 1, 2, 1, 1, 1, 4, 7, 2, 1, 1, 1, 1, 1, 2, 1, 1, 8, 5, 1, 1, 1, 1, 9, 1, 1, 1, 1, 13, 1, 1, 1, 2, 23, 1, 1, 3, 1, 14, 1, 1, 1, 1, 1, 1, 16, 2, 1, 1, 6, 2, 1, 1, 2, 1, 1, 2, 1, 4, 2, 51, 2, 1, 1, 1, 1, 3, 1, 1, 1, 1, 1, 2, 1, 4, 164, 39, 27, 17, 1, 24, 1, 1, 8, 1, 1, 1, 1, 2, 3, 1, 1, 1, 1, 1, 2, 1, 5, 1, 1, 1, 1, 1, 1, 1, 3, 13, 1, 1, 1, 1, 51, 1, 1, 1, 1, 3, 10, 1, 1, 1, 1, 1, 1, 1, 1, 1, 1, 1, 11, 1, 1, 1, 5, 86, 3, 1, 1, 1, 1, 2, 1, 9, 1, 2, 1, 13, 1, 1, 4, 1]\n"
     ]
    }
   ],
   "source": [
    "number_gift_types = []\n",
    "for gift_type in all_gifts:\n",
    "  number_gift_types.append(df[df['Credit Line']==gift_type].count()[0])\n",
    "print(number_gift_types)"
   ]
  },
  {
   "cell_type": "code",
   "execution_count": 26,
   "id": "cbe2efbe",
   "metadata": {},
   "outputs": [],
   "source": [
    "gifts = {\n",
    "    'type': all_gifts,\n",
    "    'number': number_gift_types\n",
    "}\n",
    "gift_df = pd.DataFrame(gifts)"
   ]
  },
  {
   "cell_type": "code",
   "execution_count": 27,
   "id": "6b4b74bc",
   "metadata": {},
   "outputs": [
    {
     "data": {
      "text/html": [
       "<div>\n",
       "<style scoped>\n",
       "    .dataframe tbody tr th:only-of-type {\n",
       "        vertical-align: middle;\n",
       "    }\n",
       "\n",
       "    .dataframe tbody tr th {\n",
       "        vertical-align: top;\n",
       "    }\n",
       "\n",
       "    .dataframe thead th {\n",
       "        text-align: right;\n",
       "    }\n",
       "</style>\n",
       "<table border=\"1\" class=\"dataframe\">\n",
       "  <thead>\n",
       "    <tr style=\"text-align: right;\">\n",
       "      <th></th>\n",
       "      <th>number</th>\n",
       "    </tr>\n",
       "  </thead>\n",
       "  <tbody>\n",
       "    <tr>\n",
       "      <th>count</th>\n",
       "      <td>802.000000</td>\n",
       "    </tr>\n",
       "    <tr>\n",
       "      <th>mean</th>\n",
       "      <td>9.104738</td>\n",
       "    </tr>\n",
       "    <tr>\n",
       "      <th>std</th>\n",
       "      <td>36.482705</td>\n",
       "    </tr>\n",
       "    <tr>\n",
       "      <th>min</th>\n",
       "      <td>1.000000</td>\n",
       "    </tr>\n",
       "    <tr>\n",
       "      <th>25%</th>\n",
       "      <td>1.000000</td>\n",
       "    </tr>\n",
       "    <tr>\n",
       "      <th>50%</th>\n",
       "      <td>1.000000</td>\n",
       "    </tr>\n",
       "    <tr>\n",
       "      <th>75%</th>\n",
       "      <td>5.000000</td>\n",
       "    </tr>\n",
       "    <tr>\n",
       "      <th>max</th>\n",
       "      <td>780.000000</td>\n",
       "    </tr>\n",
       "  </tbody>\n",
       "</table>\n",
       "</div>"
      ],
      "text/plain": [
       "           number\n",
       "count  802.000000\n",
       "mean   9.104738  \n",
       "std    36.482705 \n",
       "min    1.000000  \n",
       "25%    1.000000  \n",
       "50%    1.000000  \n",
       "75%    5.000000  \n",
       "max    780.000000"
      ]
     },
     "execution_count": 27,
     "metadata": {},
     "output_type": "execute_result"
    }
   ],
   "source": [
    "gift_df.describe()"
   ]
  },
  {
   "cell_type": "code",
   "execution_count": 28,
   "id": "2506fbc5",
   "metadata": {},
   "outputs": [
    {
     "data": {
      "text/plain": [
       "780"
      ]
     },
     "execution_count": 28,
     "metadata": {},
     "output_type": "execute_result"
    }
   ],
   "source": [
    "int(gift_df[gift_df['number']==780]['number'])"
   ]
  },
  {
   "cell_type": "code",
   "execution_count": 29,
   "id": "908db2d5",
   "metadata": {},
   "outputs": [],
   "source": [
    "import re\n",
    "person = []\n",
    "number = []\n",
    "for x in sorted(number_gift_types)[-10:]:\n",
    "    person.append(str(gift_df[gift_df['number']==x]['type'])[:-26])\n",
    "    number.append(int(gift_df[gift_df['number']==x]['number'])    )"
   ]
  },
  {
   "cell_type": "code",
   "execution_count": 30,
   "id": "495cbc5d",
   "metadata": {},
   "outputs": [],
   "source": [
    "top_donors = {\n",
    "    'person': person,\n",
    "    'number': number\n",
    "}\n",
    "top_donors = pd.DataFrame(top_donors)"
   ]
  },
  {
   "cell_type": "code",
   "execution_count": 31,
   "id": "50082fb2",
   "metadata": {},
   "outputs": [],
   "source": [
    "import re\n",
    "top_donors['person'] = top_donors['person'].apply(lambda x: re.sub(\"(.*) gift of\", \"gift of\", x))"
   ]
  },
  {
   "cell_type": "code",
   "execution_count": 32,
   "id": "a8bddb31",
   "metadata": {},
   "outputs": [
    {
     "data": {
      "text/html": [
       "<div>\n",
       "<style scoped>\n",
       "    .dataframe tbody tr th:only-of-type {\n",
       "        vertical-align: middle;\n",
       "    }\n",
       "\n",
       "    .dataframe tbody tr th {\n",
       "        vertical-align: top;\n",
       "    }\n",
       "\n",
       "    .dataframe thead th {\n",
       "        text-align: right;\n",
       "    }\n",
       "</style>\n",
       "<table border=\"1\" class=\"dataframe\">\n",
       "  <thead>\n",
       "    <tr style=\"text-align: right;\">\n",
       "      <th></th>\n",
       "      <th>person</th>\n",
       "      <th>number</th>\n",
       "    </tr>\n",
       "  </thead>\n",
       "  <tbody>\n",
       "    <tr>\n",
       "      <th>0</th>\n",
       "      <td>gift of Donald Holden</td>\n",
       "      <td>128</td>\n",
       "    </tr>\n",
       "    <tr>\n",
       "      <th>1</th>\n",
       "      <td>gift of Andrea Feldman (PA 1983)</td>\n",
       "      <td>134</td>\n",
       "    </tr>\n",
       "    <tr>\n",
       "      <th>2</th>\n",
       "      <td>gift of Claudia and Steven Schwartz (PA 1977)</td>\n",
       "      <td>137</td>\n",
       "    </tr>\n",
       "    <tr>\n",
       "      <th>3</th>\n",
       "      <td>gift of Edward O'Neil</td>\n",
       "      <td>152</td>\n",
       "    </tr>\n",
       "    <tr>\n",
       "      <th>4</th>\n",
       "      <td>gift of H.J. Koehler, Grandson of P. Koehler</td>\n",
       "      <td>160</td>\n",
       "    </tr>\n",
       "    <tr>\n",
       "      <th>5</th>\n",
       "      <td>gift of E.T. Meredith III</td>\n",
       "      <td>164</td>\n",
       "    </tr>\n",
       "    <tr>\n",
       "      <th>6</th>\n",
       "      <td>gift of Adam D. Weinberg in honor of Allison Kemmerer</td>\n",
       "      <td>250</td>\n",
       "    </tr>\n",
       "    <tr>\n",
       "      <th>7</th>\n",
       "      <td>gift of Katherine D. and Stephen C. Sherrill (PA 1971, and P 2005, 2007, 2010)</td>\n",
       "      <td>278</td>\n",
       "    </tr>\n",
       "    <tr>\n",
       "      <th>8</th>\n",
       "      <td>gift of Georgia O'Keeffe and Elizabeth Davidson</td>\n",
       "      <td>284</td>\n",
       "    </tr>\n",
       "    <tr>\n",
       "      <th>9</th>\n",
       "      <td>gift of the Edwin J. Beinecke Trust</td>\n",
       "      <td>780</td>\n",
       "    </tr>\n",
       "  </tbody>\n",
       "</table>\n",
       "</div>"
      ],
      "text/plain": [
       "                                                                           person  \\\n",
       "0  gift of Donald Holden                                                            \n",
       "1  gift of Andrea Feldman (PA 1983)                                                 \n",
       "2  gift of Claudia and Steven Schwartz (PA 1977)                                    \n",
       "3  gift of Edward O'Neil                                                            \n",
       "4  gift of H.J. Koehler, Grandson of P. Koehler                                     \n",
       "5  gift of E.T. Meredith III                                                        \n",
       "6  gift of Adam D. Weinberg in honor of Allison Kemmerer                            \n",
       "7  gift of Katherine D. and Stephen C. Sherrill (PA 1971, and P 2005, 2007, 2010)   \n",
       "8  gift of Georgia O'Keeffe and Elizabeth Davidson                                  \n",
       "9  gift of the Edwin J. Beinecke Trust                                              \n",
       "\n",
       "   number  \n",
       "0  128     \n",
       "1  134     \n",
       "2  137     \n",
       "3  152     \n",
       "4  160     \n",
       "5  164     \n",
       "6  250     \n",
       "7  278     \n",
       "8  284     \n",
       "9  780     "
      ]
     },
     "execution_count": 32,
     "metadata": {},
     "output_type": "execute_result"
    }
   ],
   "source": [
    "top_donors"
   ]
  },
  {
   "cell_type": "code",
   "execution_count": 33,
   "id": "45e8c969",
   "metadata": {},
   "outputs": [],
   "source": [
    "for x in df['Class Type'].unique():\n",
    "    top_donors[str(x)] = 0"
   ]
  },
  {
   "cell_type": "code",
   "execution_count": 40,
   "id": "2faded58",
   "metadata": {},
   "outputs": [
    {
     "data": {
      "text/plain": [
       "['gift of Donald Holden',\n",
       " 'gift of Andrea Feldman (PA 1983)',\n",
       " 'gift of Claudia and Steven Schwartz (PA 1977)',\n",
       " \"gift of Edward O'Neil\",\n",
       " 'gift of H.J. Koehler, Grandson of P. Koehler',\n",
       " 'gift of E.T. Meredith III',\n",
       " 'gift of Adam D. Weinberg in honor of Allison Kemmerer',\n",
       " 'gift of Katherine D. and Stephen C. Sherrill (PA 1971, and P 2005, 2007, 2010)',\n",
       " \"gift of Georgia O'Keeffe and Elizabeth Davidson\",\n",
       " 'gift of the Edwin J. Beinecke Trust']"
      ]
     },
     "execution_count": 40,
     "metadata": {},
     "output_type": "execute_result"
    }
   ],
   "source": [
    "donors_list = list(top_donors['person'])\n",
    "donors_list"
   ]
  },
  {
   "cell_type": "code",
   "execution_count": 45,
   "id": "467b4c51",
   "metadata": {},
   "outputs": [],
   "source": [
    "for x in df:\n",
    "    if str(df['Credit Line']) in donors_list:\n",
    "        print('hi')"
   ]
  },
  {
   "cell_type": "code",
   "execution_count": null,
   "id": "0aefadc0",
   "metadata": {},
   "outputs": [],
   "source": [
    "for each in df['Class Type'].unique():\n",
    "    for x in top_donors['person'].unique():\n",
    "        print(x)\n",
    "\n",
    "number = []\n",
    "for x in class_type:\n",
    "    number.append(grandson[grandson['Class Type']==x].count()[0])\n",
    "\n",
    "# # print(number)\n",
    "# for x in top_donors['person'].unique():\n",
    "#     for each in df['Class Type'].unique():\n",
    "#         number.append(df[df['Class Type']==each and df['Credit Line']==x].count()[0])"
   ]
  },
  {
   "cell_type": "code",
   "execution_count": 37,
   "id": "3bb10082",
   "metadata": {},
   "outputs": [],
   "source": [
    "sherrill = df[df['Credit Line']=='purchased as the gift of Katherine D. and Stephen C. Sherrill (PA 1971, and P 2005, 2007, 2010)']"
   ]
  },
  {
   "cell_type": "code",
   "execution_count": null,
   "id": "f8135d42",
   "metadata": {},
   "outputs": [],
   "source": [
    "sherrill.sample()"
   ]
  },
  {
   "cell_type": "code",
   "execution_count": null,
   "id": "f38ca6d2",
   "metadata": {},
   "outputs": [],
   "source": [
    "class_type = sherrill['Class Type'].unique()\n",
    "number = []\n",
    "for x in class_type:\n",
    "    number.append(sherrill[sherrill['Class Type']==x].count()[0])\n",
    "\n",
    "print(number)\n",
    "# print(class_type)\n",
    "# sherrill[sherrill['Class Type']=='G: Photography'].count()[0]\n",
    "    \n",
    "    # all_gifts = []\n",
    "# number_gift_types = []\n",
    "# for gift_type in all_gifts:\n",
    "#   number_gift_types.append(sherrill[sherrill['Class Type']==gift_type].count()[0])\n",
    "# print(number_gift_types)"
   ]
  },
  {
   "cell_type": "code",
   "execution_count": null,
   "id": "6cdada2f",
   "metadata": {},
   "outputs": [],
   "source": [
    "class_type"
   ]
  },
  {
   "cell_type": "code",
   "execution_count": null,
   "id": "ab7b2fa5",
   "metadata": {},
   "outputs": [],
   "source": [
    "sherrill[sherrill['Class Type']=='A: Painting']"
   ]
  },
  {
   "cell_type": "code",
   "execution_count": null,
   "id": "a7e3dd6e",
   "metadata": {},
   "outputs": [],
   "source": [
    "okeeffe = df[df['Credit Line']==\"gift of Georgia O'Keeffe and Elizabeth Davidson\"]"
   ]
  },
  {
   "cell_type": "code",
   "execution_count": null,
   "id": "6f735c22",
   "metadata": {},
   "outputs": [],
   "source": [
    "okeeffe"
   ]
  },
  {
   "cell_type": "code",
   "execution_count": null,
   "id": "ca92ba0e",
   "metadata": {},
   "outputs": [],
   "source": [
    "class_type = okeeffe['Class Type'].unique()\n",
    "number = []\n",
    "for x in class_type:\n",
    "    number.append(okeeffe[okeeffe['Class Type']==x].count()[0])\n",
    "\n",
    "print(number)"
   ]
  },
  {
   "cell_type": "code",
   "execution_count": null,
   "id": "d43711f7",
   "metadata": {},
   "outputs": [],
   "source": [
    "class_type"
   ]
  },
  {
   "cell_type": "code",
   "execution_count": null,
   "id": "650e5e30",
   "metadata": {},
   "outputs": [],
   "source": [
    "sherrill[sherrill['Class Type']=='F: Prints']"
   ]
  },
  {
   "cell_type": "code",
   "execution_count": null,
   "id": "dac6d2aa",
   "metadata": {},
   "outputs": [],
   "source": [
    "# grandson = \n",
    "\n",
    "grandson = df[df['Credit Line']==\"gift of H.J. Koehler, Grandson of P. Koehler\"]\n",
    "class_type = grandson['Class Type'].unique()\n",
    "number = []\n",
    "for x in class_type:\n",
    "    number.append(grandson[grandson['Class Type']==x].count()[0])\n",
    "\n",
    "print(number)"
   ]
  },
  {
   "cell_type": "code",
   "execution_count": null,
   "id": "917ccf85",
   "metadata": {},
   "outputs": [],
   "source": [
    "class_type"
   ]
  },
  {
   "cell_type": "code",
   "execution_count": null,
   "id": "bad88c11",
   "metadata": {},
   "outputs": [],
   "source": [
    "grandson[grandson['Class Type']=='E: Work on Paper']"
   ]
  },
  {
   "cell_type": "code",
   "execution_count": null,
   "id": "4ee4bb3a",
   "metadata": {},
   "outputs": [],
   "source": []
  }
 ],
 "metadata": {
  "kernelspec": {
   "display_name": "Python 3 (ipykernel)",
   "language": "python",
   "name": "python3"
  },
  "language_info": {
   "codemirror_mode": {
    "name": "ipython",
    "version": 3
   },
   "file_extension": ".py",
   "mimetype": "text/x-python",
   "name": "python",
   "nbconvert_exporter": "python",
   "pygments_lexer": "ipython3",
   "version": "3.9.5"
  }
 },
 "nbformat": 4,
 "nbformat_minor": 5
}
